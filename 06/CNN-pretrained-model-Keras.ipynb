{
  "nbformat": 4,
  "nbformat_minor": 0,
  "metadata": {
    "kernelspec": {
      "display_name": "Python 3",
      "language": "python",
      "name": "python3"
    },
    "language_info": {
      "codemirror_mode": {
        "name": "ipython",
        "version": 3
      },
      "file_extension": ".py",
      "mimetype": "text/x-python",
      "name": "python",
      "nbconvert_exporter": "python",
      "pygments_lexer": "ipython3",
      "version": "3.6.6"
    },
    "colab": {
      "name": "4-2-ConvNet2D-Pretrained-Model.ipynb",
      "provenance": [],
      "collapsed_sections": []
    }
  },
  "cells": [
    {
      "cell_type": "markdown",
      "metadata": {
        "id": "xyZm00sBbDxv"
      },
      "source": [
        "# Copyright\n",
        "\n",
        "<PRE>\n",
        "Jelen forráskód a Budapesti Műszaki és Gazdaságtudományi Egyetemen tartott\n",
        "\"Deep Learning a gyakorlatban Python és LUA alapon\" tantárgy segédanyagaként készült.\n",
        "\n",
        "A tantárgy honlapja: http://smartlab.tmit.bme.hu/oktatas-deep-learning\n",
        "Deep Learning kutatás: http://smartlab.tmit.bme.hu/deep-learning\n",
        "\n",
        "A notebook bármely részének újra felhasználása, publikálása csak a szerzõ írásos beleegyezése esetén megegengedett.\n",
        "\n",
        "A kód elkészítéséhez az alábbi források kerültek felhasználásra:\n",
        "https://keras.io/applications/\n",
        "\n",
        "2020 (c) Gyires-Tóth Bálint (toth.b kukac tmit pont bme pont hu)\n",
        "</PRE>"
      ]
    },
    {
      "cell_type": "markdown",
      "metadata": {
        "id": "bXHKHSPAbDxw"
      },
      "source": [
        "## Előtanított háló futtatása\n",
        "Jelen notebookban egy Imagenet adatbázison előtanított hálózatot fogunk betölteni és futtatni."
      ]
    },
    {
      "cell_type": "code",
      "metadata": {
        "id": "UuQiGSf_bDxx"
      },
      "source": [
        "import os\n",
        "from urllib.request import urlretrieve\n",
        "from tensorflow.keras.applications.inception_v3 import InceptionV3,preprocess_input,decode_predictions\n",
        "#from keras.applications.resnet50 import ResNet50, preprocess_input, decode_predictions\n",
        "from tensorflow.keras.preprocessing import image\n",
        "import numpy as np"
      ],
      "execution_count": 1,
      "outputs": []
    },
    {
      "cell_type": "markdown",
      "metadata": {
        "id": "4O-19UcdbDxz"
      },
      "source": [
        "Egy tetszőleges kép letöltése (jelenleg ezen egy kutya látható):"
      ]
    },
    {
      "cell_type": "code",
      "metadata": {
        "id": "YstGWMUTbDx0",
        "outputId": "8ca6fd7e-0df1-445a-e080-17c66abaefc3",
        "colab": {
          "base_uri": "https://localhost:8080/",
          "height": 34
        }
      },
      "source": [
        "url_dog=\"https://s3.amazonaws.com/cdn-origin-etr.akc.org/wp-content/uploads/2017/11/12234558/Chinook-On-White-03.jpg\"\n",
        "urlretrieve(url_dog, \"dog.jpg\")"
      ],
      "execution_count": 2,
      "outputs": [
        {
          "output_type": "execute_result",
          "data": {
            "text/plain": [
              "('dog.jpg', <http.client.HTTPMessage at 0x7f649fda20f0>)"
            ]
          },
          "metadata": {
            "tags": []
          },
          "execution_count": 2
        }
      ]
    },
    {
      "cell_type": "markdown",
      "metadata": {
        "id": "luYHZXmnbDx2"
      },
      "source": [
        "ImageNet-el előtanított Inception V3 vagy ResNet50 modell betöltése:"
      ]
    },
    {
      "cell_type": "code",
      "metadata": {
        "id": "FLN2Z2TCbDx2",
        "outputId": "eff630e1-7189-45b8-a61f-d10931c25fec",
        "colab": {
          "base_uri": "https://localhost:8080/",
          "height": 50
        }
      },
      "source": [
        "model = InceptionV3(weights='imagenet', include_top=True)\n",
        "#model = ResNet50(weights='imagenet', include_top=True)"
      ],
      "execution_count": 3,
      "outputs": [
        {
          "output_type": "stream",
          "text": [
            "Downloading data from https://storage.googleapis.com/tensorflow/keras-applications/inception_v3/inception_v3_weights_tf_dim_ordering_tf_kernels.h5\n",
            "96116736/96112376 [==============================] - 1s 0us/step\n"
          ],
          "name": "stdout"
        }
      ]
    },
    {
      "cell_type": "markdown",
      "metadata": {
        "id": "2_FDf4mFbDx4"
      },
      "source": [
        "Kép előkészítése a háló számára:"
      ]
    },
    {
      "cell_type": "code",
      "metadata": {
        "id": "eQeYhBfvbDx4"
      },
      "source": [
        "img_path = 'dog.jpg'\n",
        "\n",
        "img = image.load_img(img_path, target_size=(299, 299)) # Inception V3 esetén 299x299 a bemeneti kép mérete\n",
        "#img = image.load_img(img_path, target_size=(224, 224)) # ResNet50 esetén 224x224 a bemeneti kép mérete\n",
        "x = image.img_to_array(img)\n",
        "x = np.expand_dims(x, axis=0)\n",
        "x = preprocess_input(x)"
      ],
      "execution_count": 4,
      "outputs": []
    },
    {
      "cell_type": "markdown",
      "metadata": {
        "id": "_T4-CtR3bDx6"
      },
      "source": [
        "A kép osztályozása és eredmény kiiratása:"
      ]
    },
    {
      "cell_type": "code",
      "metadata": {
        "id": "-hOB3wAsbDx7",
        "outputId": "9dc193db-4e4d-40b6-8e95-3edf93537181",
        "colab": {
          "base_uri": "https://localhost:8080/",
          "height": 104
        }
      },
      "source": [
        "preds = model.predict(x)\n",
        "print('Jósolt osztály:')\n",
        "print(decode_predictions(preds))"
      ],
      "execution_count": 5,
      "outputs": [
        {
          "output_type": "stream",
          "text": [
            "Jósolt osztály:\n",
            "Downloading data from https://storage.googleapis.com/download.tensorflow.org/data/imagenet_class_index.json\n",
            "40960/35363 [==================================] - 0s 0us/step\n",
            "[[('n02099712', 'Labrador_retriever', 0.29647514), ('n02109525', 'Saint_Bernard', 0.073499955), ('n02105162', 'malinois', 0.06864363), ('n02108422', 'bull_mastiff', 0.064275354), ('n02099601', 'golden_retriever', 0.054180298)]]\n"
          ],
          "name": "stdout"
        }
      ]
    }
  ]
}