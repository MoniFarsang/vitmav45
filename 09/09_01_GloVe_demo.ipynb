{
  "nbformat": 4,
  "nbformat_minor": 0,
  "metadata": {
    "colab": {
      "name": "09_01_GloVe_demo.ipynb",
      "provenance": []
    },
    "kernelspec": {
      "name": "python3",
      "display_name": "Python 3"
    }
  },
  "cells": [
    {
      "cell_type": "markdown",
      "metadata": {
        "id": "DMnBXj3adE1w"
      },
      "source": [
        "\n",
        "Copyright\n",
        "\n",
        "Jelen forráskód a Budapesti Műszaki és Gazdaságtudományi Egyetemen tartott\n",
        "\"Deep Learning a gyakorlatban Python és LUA alapon\" tantárgy segédanyagaként készült.\n",
        "\n",
        "A tantárgy honlapja: http://smartlab.tmit.bme.hu/oktatas-deep-learning\n",
        "Deep Learning kutatás: http://smartlab.tmit.bme.hu/deep-learning\n",
        "\n",
        "A forráskódot GPLv3 licensz védi. Újrafelhasználás esetén lehetőség szerint kérjük\n",
        "az alábbi szerzőt értesíteni.\n",
        "\n",
        "2020 (c) Csapó Tamás Gábor (csapot kukac tmit pont bme pont hu),\n",
        "Gyires-Tóth Bálint, Zainkó Csaba\n",
        "\n",
        "\n",
        "Links:\n",
        "    [glove] https://nlp.stanford.edu/projects/glove/\n",
        "    [glove.6B.50d.txt] http://nlp.stanford.edu/data/glove.6B.zip\n"
      ]
    },
    {
      "cell_type": "code",
      "metadata": {
        "id": "a02R7idyc8FW",
        "outputId": "3374cef4-4cc1-4ea5-9e6e-7f38d594ff35",
        "colab": {
          "base_uri": "https://localhost:8080/"
        }
      },
      "source": [
        "!wget http://downloads.cs.stanford.edu/nlp/data/glove.6B.zip\n",
        "!unzip glove.6B.zip glove.6B.50d.txt"
      ],
      "execution_count": 1,
      "outputs": [
        {
          "output_type": "stream",
          "text": [
            "--2020-11-04 15:39:25--  http://downloads.cs.stanford.edu/nlp/data/glove.6B.zip\n",
            "Resolving downloads.cs.stanford.edu (downloads.cs.stanford.edu)... 171.64.64.22\n",
            "Connecting to downloads.cs.stanford.edu (downloads.cs.stanford.edu)|171.64.64.22|:80... connected.\n",
            "HTTP request sent, awaiting response... 200 OK\n",
            "Length: 862182613 (822M) [application/zip]\n",
            "Saving to: ‘glove.6B.zip’\n",
            "\n",
            "glove.6B.zip        100%[===================>] 822.24M  1.92MB/s    in 6m 28s  \n",
            "\n",
            "2020-11-04 15:45:53 (2.12 MB/s) - ‘glove.6B.zip’ saved [862182613/862182613]\n",
            "\n",
            "Archive:  glove.6B.zip\n",
            "  inflating: glove.6B.50d.txt        \n"
          ],
          "name": "stdout"
        }
      ]
    },
    {
      "cell_type": "code",
      "metadata": {
        "id": "y2LqDAL9dMgx"
      },
      "source": [
        "#!wget http://smartlab.tmit.bme.hu/dl/glove.6B.50d.zip\n",
        "#!unzip glove.6B.50d.zip"
      ],
      "execution_count": 2,
      "outputs": []
    },
    {
      "cell_type": "code",
      "metadata": {
        "id": "RLkd26R3dRcw",
        "outputId": "eb84a92b-db58-4215-9e6b-03bcb3ab495b",
        "colab": {
          "base_uri": "https://localhost:8080/"
        }
      },
      "source": [
        "import numpy as np\n",
        "words = set()\n",
        "vectors = {}\n",
        "with open('glove.6B.50d.txt', 'r', encoding=\"utf8\", errors='ignore') as f:\n",
        "  for line in f:\n",
        "    line = line.strip().split()\n",
        "    cword = line[0]\n",
        "    \n",
        "    try:\n",
        "      v= np.array(line[1:], dtype=np.float64)\n",
        "      if v.shape[0] == 50:\n",
        "          vectors[cword]=v\n",
        "          words.add(cword)\n",
        "      else:\n",
        "          print(\"Error in line: {}\".format(line))\n",
        "    except:\n",
        "          print(\"Error in line: {}\".format(line))\n",
        "print(\"Number of read words: {}\".format(len(words)))\n"
      ],
      "execution_count": 3,
      "outputs": [
        {
          "output_type": "stream",
          "text": [
            "Number of read words: 400000\n"
          ],
          "name": "stdout"
        }
      ]
    },
    {
      "cell_type": "code",
      "metadata": {
        "id": "EQb7xXx4k6LF"
      },
      "source": [
        "def find_similarity(word, vector=None):\n",
        "    if vector is not None:  #Ez a rész az analógiákhoz kell majd, első lépésként nem is kell\n",
        "       v1=vector            #\n",
        "    else:                   #\n",
        "      word=word.lower()\n",
        "      v1=vectors[word]\n",
        "    top = 5 \n",
        "    max= np.ones(top)* -200\n",
        "    mwords= np.chararray(top,itemsize=20,unicode=True)\n",
        "    mwords[:]= None\n",
        "    \n",
        "    #cos similarity\n",
        "    u = np.sqrt(np.sum(np.square(v1)))\n",
        "    \n",
        "    for w in words:  \n",
        "        if w in word:\n",
        "           continue      \n",
        "        vm=vectors[w]\n",
        "        uv = np.dot(v1,vm)\n",
        "        v = np.sqrt(np.sum(np.square(vm)))\n",
        "        cosine_sim=  uv/(u*v)\n",
        "    \n",
        "        \n",
        "        for i in range(top):\n",
        "          if cosine_sim > max[i]:\n",
        "              for j in range(top-1,i,-1):\n",
        "                max[j]=max[j-1]\n",
        "                mwords[j]=mwords[j-1]\n",
        "              #print(w)\n",
        "              mwords[i]=w\n",
        "              max[i]=cosine_sim\n",
        "              break\n",
        "            \n",
        "        \n",
        "    return mwords,max\n",
        "\n"
      ],
      "execution_count": 4,
      "outputs": []
    },
    {
      "cell_type": "code",
      "metadata": {
        "id": "NdYQrdxHlceU"
      },
      "source": [
        "def find_and_print_similarity(w1):\n",
        "  print(\"Find similarity: {}\".format(w1))\n",
        "  top5_words,values=find_similarity(w1)\n",
        "\n",
        "  for i, w in enumerate(top5_words):\n",
        "     print(\"{}. {:6.4f} : {}\".format(i,values[i],w))"
      ],
      "execution_count": 5,
      "outputs": []
    },
    {
      "cell_type": "code",
      "metadata": {
        "id": "PqbgPdQLlp0I",
        "outputId": "4a9b5b35-6d1d-41c3-e61a-1d0410766f84",
        "colab": {
          "base_uri": "https://localhost:8080/"
        }
      },
      "source": [
        "find_and_print_similarity(\"dollar\")"
      ],
      "execution_count": 6,
      "outputs": [
        {
          "output_type": "stream",
          "text": [
            "Find similarity: dollar\n",
            "0. 0.8264 : euro\n",
            "1. 0.8199 : currency\n",
            "2. 0.7883 : dollars\n",
            "3. 0.7817 : greenback\n",
            "4. 0.7810 : price\n"
          ],
          "name": "stdout"
        }
      ]
    },
    {
      "cell_type": "code",
      "metadata": {
        "id": "YABaaun2mpTc",
        "outputId": "a4730199-a1b1-4a44-8bd4-1a07d3157a04",
        "colab": {
          "base_uri": "https://localhost:8080/"
        }
      },
      "source": [
        "find_and_print_similarity(\"sea\")"
      ],
      "execution_count": 7,
      "outputs": [
        {
          "output_type": "stream",
          "text": [
            "Find similarity: sea\n",
            "0. 0.8812 : ocean\n",
            "1. 0.8739 : waters\n",
            "2. 0.8261 : seas\n",
            "3. 0.7974 : coast\n",
            "4. 0.7801 : mediterranean\n"
          ],
          "name": "stdout"
        }
      ]
    },
    {
      "cell_type": "code",
      "metadata": {
        "id": "R-rkZzNNv7O7"
      },
      "source": [
        "def find_analogy(word1, word2, word3):\n",
        "    word1=word1.lower()\n",
        "    word2=word2.lower()\n",
        "    word3=word3.lower()\n",
        "    \n",
        "    v1=vectors[word1]\n",
        "    v2=vectors[word2]\n",
        "    v3=vectors[word3]\n",
        " \n",
        "    #cos similarity\n",
        "    v= v1 - v2 + v3\n",
        "        \n",
        "    return find_similarity([word1,word2,word3],v) #word1,word2,word2-at azért adjuk meg, hogy az kizárjuk a kereséből\n"
      ],
      "execution_count": 8,
      "outputs": []
    },
    {
      "cell_type": "code",
      "metadata": {
        "id": "95LnZPoGhBw5"
      },
      "source": [
        "def find_and_print_analogy(w1,w2,w3):\n",
        "  print(\"Find analogy: {} - {} + {} =\".format(w1,w2,w3))\n",
        "  top5_words,values=find_analogy(w1,w2,w3)\n",
        "\n",
        "  for i, w in enumerate(top5_words):\n",
        "     print(\"{}. {:6.4f} : {}\".format(i,values[i],w))"
      ],
      "execution_count": 9,
      "outputs": []
    },
    {
      "cell_type": "code",
      "metadata": {
        "id": "o42RiemBhEBJ",
        "outputId": "8391c101-101d-4a40-f8f9-a15821bcd842",
        "colab": {
          "base_uri": "https://localhost:8080/"
        }
      },
      "source": [
        "find_and_print_analogy('queen', 'woman', 'man')"
      ],
      "execution_count": 10,
      "outputs": [
        {
          "output_type": "stream",
          "text": [
            "Find analogy: queen - woman + man =\n",
            "0. 0.8589 : king\n",
            "1. 0.8052 : prince\n",
            "2. 0.7755 : crown\n",
            "3. 0.7512 : coronation\n",
            "4. 0.7463 : royal\n"
          ],
          "name": "stdout"
        }
      ]
    },
    {
      "cell_type": "code",
      "metadata": {
        "id": "tkNC1-DR3OJh",
        "outputId": "02d09d93-ad50-4beb-cc5a-b4ad4fe59889",
        "colab": {
          "base_uri": "https://localhost:8080/"
        }
      },
      "source": [
        "find_and_print_analogy('Paris', 'France', 'Germany')"
      ],
      "execution_count": 11,
      "outputs": [
        {
          "output_type": "stream",
          "text": [
            "Find analogy: Paris - France + Germany =\n",
            "0. 0.9181 : berlin\n",
            "1. 0.8184 : frankfurt\n",
            "2. 0.8121 : munich\n",
            "3. 0.8101 : vienna\n",
            "4. 0.7974 : hamburg\n"
          ],
          "name": "stdout"
        }
      ]
    },
    {
      "cell_type": "code",
      "metadata": {
        "id": "ANpsshme3dz3",
        "outputId": "01381ace-5713-448d-b550-eef76cd58407",
        "colab": {
          "base_uri": "https://localhost:8080/"
        }
      },
      "source": [
        "find_and_print_analogy('soccer','usa','England')"
      ],
      "execution_count": 12,
      "outputs": [
        {
          "output_type": "stream",
          "text": [
            "Find analogy: soccer - usa + England =\n",
            "0. 0.7775 : premiership\n",
            "1. 0.7584 : cricket\n",
            "2. 0.7567 : rugby\n",
            "3. 0.7370 : football\n",
            "4. 0.7364 : spell\n"
          ],
          "name": "stdout"
        }
      ]
    },
    {
      "cell_type": "code",
      "metadata": {
        "id": "9M8mQQ86i9Lt",
        "outputId": "f6b85aa9-e167-4740-ff5e-3b75e6b8c0b0",
        "colab": {
          "base_uri": "https://localhost:8080/"
        }
      },
      "source": [
        "find_and_print_analogy( 'euro','Europeans', 'americans')"
      ],
      "execution_count": 13,
      "outputs": [
        {
          "output_type": "stream",
          "text": [
            "Find analogy: euro - Europeans + americans =\n",
            "0. 0.8293 : dollar\n",
            "1. 0.7800 : drop\n",
            "2. 0.7632 : deficit\n",
            "3. 0.7622 : us\n",
            "4. 0.7616 : year\n"
          ],
          "name": "stdout"
        }
      ]
    },
    {
      "cell_type": "code",
      "metadata": {
        "id": "tFIyA8ctjxTF",
        "outputId": "f4599ff1-87b4-41dc-cf69-2cd1250fbb36",
        "colab": {
          "base_uri": "https://localhost:8080/"
        }
      },
      "source": [
        "find_and_print_analogy('road','car','ship')"
      ],
      "execution_count": 14,
      "outputs": [
        {
          "output_type": "stream",
          "text": [
            "Find analogy: road - car + ship =\n",
            "0. 0.7876 : harbour\n",
            "1. 0.7655 : shore\n",
            "2. 0.7468 : sea\n",
            "3. 0.7464 : harbor\n",
            "4. 0.7276 : river\n"
          ],
          "name": "stdout"
        }
      ]
    },
    {
      "cell_type": "code",
      "metadata": {
        "id": "ha_BTmEMmyBR",
        "outputId": "d979ac3d-a735-4700-d54d-16b61c43b7b8",
        "colab": {
          "base_uri": "https://localhost:8080/"
        }
      },
      "source": [
        "find_and_print_analogy('road','car','boat')"
      ],
      "execution_count": 15,
      "outputs": [
        {
          "output_type": "stream",
          "text": [
            "Find analogy: road - car + boat =\n",
            "0. 0.7612 : shore\n",
            "1. 0.7449 : river\n",
            "2. 0.7402 : harbour\n",
            "3. 0.7215 : shores\n",
            "4. 0.7212 : inland\n"
          ],
          "name": "stdout"
        }
      ]
    },
    {
      "cell_type": "code",
      "metadata": {
        "id": "kIqaDNhAntmm",
        "outputId": "2ce3f9fb-9615-45b2-fb40-ad9670146eed",
        "colab": {
          "base_uri": "https://localhost:8080/"
        }
      },
      "source": [
        "from gensim.scripts.glove2word2vec import glove2word2vec\n",
        "glove_input_file = 'glove.6B.50d.txt'\n",
        "word2vec_output_file = 'glove.6B.50d.txt.word2vec'\n",
        "glove2word2vec(glove_input_file, word2vec_output_file)"
      ],
      "execution_count": 16,
      "outputs": [
        {
          "output_type": "execute_result",
          "data": {
            "text/plain": [
              "(400000, 50)"
            ]
          },
          "metadata": {
            "tags": []
          },
          "execution_count": 16
        }
      ]
    },
    {
      "cell_type": "code",
      "metadata": {
        "id": "yuI_OWvby4yN"
      },
      "source": [
        "from gensim.models import KeyedVectors\n",
        "# load the Stanford GloVe model\n",
        "filename = 'glove.6B.50d.txt.word2vec'\n",
        "model = KeyedVectors.load_word2vec_format(filename, binary=False)\n"
      ],
      "execution_count": 17,
      "outputs": []
    },
    {
      "cell_type": "code",
      "metadata": {
        "id": "y8WToBiZzdtV",
        "outputId": "d5835c44-9a7a-4533-ab97-953c13aec5ba",
        "colab": {
          "base_uri": "https://localhost:8080/"
        }
      },
      "source": [
        "result = model.most_similar(['sea'], topn=5)\n",
        "print(result)"
      ],
      "execution_count": 18,
      "outputs": [
        {
          "output_type": "stream",
          "text": [
            "[('ocean', 0.8811648488044739), ('waters', 0.8738826513290405), ('seas', 0.8261217474937439), ('coast', 0.7973910570144653), ('mediterranean', 0.7800909876823425)]\n"
          ],
          "name": "stdout"
        },
        {
          "output_type": "stream",
          "text": [
            "/usr/local/lib/python3.6/dist-packages/gensim/matutils.py:737: FutureWarning: Conversion of the second argument of issubdtype from `int` to `np.signedinteger` is deprecated. In future, it will be treated as `np.int64 == np.dtype(int).type`.\n",
            "  if np.issubdtype(vec.dtype, np.int):\n"
          ],
          "name": "stderr"
        }
      ]
    },
    {
      "cell_type": "code",
      "metadata": {
        "id": "ayOnRvJQ6E5T",
        "outputId": "8ede8f02-945f-45bd-b6a6-69a3e6a0cad2",
        "colab": {
          "base_uri": "https://localhost:8080/"
        }
      },
      "source": [
        "# calculate: (king - man) + woman = ?\n",
        "result = model.most_similar(positive=['king', 'woman'], negative=['man'], topn=5)\n",
        "print(result)"
      ],
      "execution_count": 19,
      "outputs": [
        {
          "output_type": "stream",
          "text": [
            "[('queen', 0.8523603677749634), ('throne', 0.7664334177970886), ('prince', 0.759214460849762), ('daughter', 0.7473883032798767), ('elizabeth', 0.7460220456123352)]\n"
          ],
          "name": "stdout"
        },
        {
          "output_type": "stream",
          "text": [
            "/usr/local/lib/python3.6/dist-packages/gensim/matutils.py:737: FutureWarning: Conversion of the second argument of issubdtype from `int` to `np.signedinteger` is deprecated. In future, it will be treated as `np.int64 == np.dtype(int).type`.\n",
            "  if np.issubdtype(vec.dtype, np.int):\n"
          ],
          "name": "stderr"
        }
      ]
    },
    {
      "cell_type": "code",
      "metadata": {
        "id": "K2spb2yj2URY"
      },
      "source": [
        ""
      ],
      "execution_count": 19,
      "outputs": []
    }
  ]
}