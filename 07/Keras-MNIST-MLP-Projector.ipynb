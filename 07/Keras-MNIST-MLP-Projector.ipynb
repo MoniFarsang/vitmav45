{
  "nbformat": 4,
  "nbformat_minor": 0,
  "metadata": {
    "anaconda-cloud": {},
    "kernelspec": {
      "display_name": "Python 3",
      "language": "python",
      "name": "python3"
    },
    "language_info": {
      "codemirror_mode": {
        "name": "ipython",
        "version": 3
      },
      "file_extension": ".py",
      "mimetype": "text/x-python",
      "name": "python",
      "nbconvert_exporter": "python",
      "pygments_lexer": "ipython3",
      "version": "3.6.6"
    },
    "colab": {
      "name": "Keras-MNIST-MLP-Projector.ipynb",
      "provenance": [],
      "collapsed_sections": []
    },
    "accelerator": "GPU"
  },
  "cells": [
    {
      "cell_type": "markdown",
      "metadata": {
        "id": "cW-EyI5Lxpqi"
      },
      "source": [
        "# Copyright\n",
        "\n",
        "<PRE>\n",
        "Jelen Jupyter notebook a Budapesti Műszaki és Gazdaságtudományi Egyetemen tartott \"Deep Learning a gyakorlatban Python és LUA alapon\" tantárgy segédanyagaként készült. \n",
        "A tantárgy honlapja: http://smartlab.tmit.bme.hu/oktatas-deep-learning\n",
        "Deep Learning kutatás: http://smartlab.tmit.bme.hu/deep-learning\n",
        "\n",
        "A notebook bármely részének újra felhasználása, publikálása csak a szerzők írásos beleegyezése esetén megegengedett.\n",
        "\n",
        "2020 (c) Gyires-Tóth Bálint (toth.b kukac tmit pont bme pont hu), Zainkó Csaba (zainko kukac tmit pont bme pont hu)\n",
        "</PRE>"
      ]
    },
    {
      "cell_type": "markdown",
      "metadata": {
        "id": "cJ14oyZExpqj"
      },
      "source": [
        "# MNIST adatbázis tanítása MLP-vel"
      ]
    },
    {
      "cell_type": "markdown",
      "metadata": {
        "id": "s4ZXYRMBxpql"
      },
      "source": [
        "Először hozzuk létre a hálózatot:"
      ]
    },
    {
      "cell_type": "code",
      "metadata": {
        "id": "lJZClHrBxpqm"
      },
      "source": [
        "import numpy as np\n",
        "import matplotlib.pyplot as plt\n",
        "\n",
        "from tensorflow.keras.models import Sequential\n",
        "from tensorflow.keras.layers import Dense, Embedding, Flatten\n",
        "from tensorflow.keras.optimizers import SGD\n",
        "from tensorflow.keras.initializers import HeNormal\n",
        "\n",
        "nb_classes = 10\n",
        "model = Sequential()\n",
        "model.add(Dense(256, activation='relu', kernel_initializer=HeNormal(), input_shape=(784,)))\n",
        "model.add(Dense(256, activation='relu', kernel_initializer=HeNormal()))\n",
        "model.add(Dense(nb_classes, activation='softmax'))\n",
        "\n",
        "model.compile(loss='categorical_crossentropy', optimizer=SGD(lr=0.001), metrics=['accuracy'])"
      ],
      "execution_count": 2,
      "outputs": []
    },
    {
      "cell_type": "markdown",
      "metadata": {
        "id": "USWhLzJ3xpqr"
      },
      "source": [
        "Ezt követően töltsük be az MNIST adatbázist:"
      ]
    },
    {
      "cell_type": "code",
      "metadata": {
        "id": "UzRZzf0Expqs",
        "outputId": "c18f2e9c-c836-46c7-bbdb-994fc0accf51",
        "colab": {
          "base_uri": "https://localhost:8080/",
          "height": 51
        }
      },
      "source": [
        "from tensorflow.keras.datasets import mnist\n",
        "from tensorflow.keras.utils import to_categorical\n",
        "\n",
        "(X_train, y_train), (X_test, y_test) = mnist.load_data()"
      ],
      "execution_count": 3,
      "outputs": [
        {
          "output_type": "stream",
          "text": [
            "Downloading data from https://storage.googleapis.com/tensorflow/tf-keras-datasets/mnist.npz\n",
            "11493376/11490434 [==============================] - 0s 0us/step\n"
          ],
          "name": "stdout"
        }
      ]
    },
    {
      "cell_type": "code",
      "metadata": {
        "id": "5RO22DN2xpqv",
        "outputId": "7d0ac072-5247-428c-befb-723175006a68",
        "colab": {
          "base_uri": "https://localhost:8080/",
          "height": 85
        }
      },
      "source": [
        "print(X_train.shape)\n",
        "print(X_test.shape)\n",
        "print(y_train.shape)\n",
        "print(y_test.shape)"
      ],
      "execution_count": 4,
      "outputs": [
        {
          "output_type": "stream",
          "text": [
            "(60000, 28, 28)\n",
            "(10000, 28, 28)\n",
            "(60000,)\n",
            "(10000,)\n"
          ],
          "name": "stdout"
        }
      ]
    },
    {
      "cell_type": "code",
      "metadata": {
        "id": "USHKtUFlxpqx"
      },
      "source": [
        "X_train = X_train.reshape(-1, 784)\n",
        "X_test = X_test.reshape(-1, 784)\n",
        "# int8 formába van, lebegőpontos kell\n",
        "X_train = X_train.astype(\"float32\")\n",
        "X_test = X_test.astype(\"float32\")\n",
        "\n",
        "# Put everything on grayscale\n",
        "X_train /= 255\n",
        "X_test /= 255\n",
        "\n",
        "# a kimenetet onehot kódolásúvá alakítjuk\n",
        "Y_train = to_categorical(y_train, nb_classes)\n",
        "Y_test = to_categorical(y_test, nb_classes)"
      ],
      "execution_count": 5,
      "outputs": []
    },
    {
      "cell_type": "code",
      "metadata": {
        "id": "Tz1XUcz7xpq0",
        "outputId": "4e750f0c-e12b-4af6-e745-d0029e5d176b",
        "colab": {
          "base_uri": "https://localhost:8080/",
          "height": 119
        }
      },
      "source": [
        "print(X_train.shape)\n",
        "print(X_test.shape)\n",
        "print(Y_train.shape)\n",
        "print(Y_test.shape)\n",
        "print(np.asarray(range(nb_classes)))\n",
        "print(Y_train[0].astype(np.int))\n"
      ],
      "execution_count": 6,
      "outputs": [
        {
          "output_type": "stream",
          "text": [
            "(60000, 784)\n",
            "(10000, 784)\n",
            "(60000, 10)\n",
            "(10000, 10)\n",
            "[0 1 2 3 4 5 6 7 8 9]\n",
            "[0 0 0 0 0 1 0 0 0 0]\n"
          ],
          "name": "stdout"
        }
      ]
    },
    {
      "cell_type": "markdown",
      "metadata": {
        "id": "kYb7un0exprA"
      },
      "source": [
        "Majd tanítsuk be a modellünket. Most nem határoztunk meg külön validációs adatbázist, hanem a model.fit függvény validation_split paramétereként adjuk meg, hogy hány százalékot használjon fel validációs célokra a tanítás:"
      ]
    },
    {
      "cell_type": "code",
      "metadata": {
        "id": "neLVcXMByeoZ"
      },
      "source": [
        "from tensorflow.keras.callbacks import TensorBoard\n",
        "tb = TensorBoard(log_dir='logs', histogram_freq=1, write_graph=1)"
      ],
      "execution_count": 7,
      "outputs": []
    },
    {
      "cell_type": "code",
      "metadata": {
        "id": "CZbOR76QxprC",
        "outputId": "e0d2d19d-7678-4cd0-d6e4-35de9a92c035",
        "colab": {
          "base_uri": "https://localhost:8080/",
          "height": 1000
        }
      },
      "source": [
        "network_history = model.fit(X_train, Y_train, batch_size=128, \n",
        "                            epochs=30, verbose=1, validation_split=0.2, callbacks=[tb])"
      ],
      "execution_count": 8,
      "outputs": [
        {
          "output_type": "stream",
          "text": [
            "Epoch 1/30\n",
            "  1/375 [..............................] - ETA: 0s - loss: 2.4325 - accuracy: 0.1328WARNING:tensorflow:From /usr/local/lib/python3.6/dist-packages/tensorflow/python/ops/summary_ops_v2.py:1277: stop (from tensorflow.python.eager.profiler) is deprecated and will be removed after 2020-07-01.\n",
            "Instructions for updating:\n",
            "use `tf.profiler.experimental.stop` instead.\n",
            "  2/375 [..............................] - ETA: 11s - loss: 2.4020 - accuracy: 0.1211WARNING:tensorflow:Callbacks method `on_train_batch_end` is slow compared to the batch time (batch time: 0.0084s vs `on_train_batch_end` time: 0.0504s). Check your callbacks.\n",
            "375/375 [==============================] - 1s 4ms/step - loss: 2.1850 - accuracy: 0.2540 - val_loss: 1.9682 - val_accuracy: 0.4417\n",
            "Epoch 2/30\n",
            "375/375 [==============================] - 1s 3ms/step - loss: 1.8019 - accuracy: 0.5488 - val_loss: 1.6116 - val_accuracy: 0.6551\n",
            "Epoch 3/30\n",
            "375/375 [==============================] - 1s 3ms/step - loss: 1.4708 - accuracy: 0.6883 - val_loss: 1.2995 - val_accuracy: 0.7501\n",
            "Epoch 4/30\n",
            "375/375 [==============================] - 1s 3ms/step - loss: 1.2010 - accuracy: 0.7569 - val_loss: 1.0614 - val_accuracy: 0.8005\n",
            "Epoch 5/30\n",
            "375/375 [==============================] - 1s 3ms/step - loss: 1.0038 - accuracy: 0.7924 - val_loss: 0.8926 - val_accuracy: 0.8271\n",
            "Epoch 6/30\n",
            "375/375 [==============================] - 1s 3ms/step - loss: 0.8648 - accuracy: 0.8149 - val_loss: 0.7743 - val_accuracy: 0.8437\n",
            "Epoch 7/30\n",
            "375/375 [==============================] - 1s 3ms/step - loss: 0.7660 - accuracy: 0.8290 - val_loss: 0.6896 - val_accuracy: 0.8530\n",
            "Epoch 8/30\n",
            "375/375 [==============================] - 1s 3ms/step - loss: 0.6937 - accuracy: 0.8400 - val_loss: 0.6267 - val_accuracy: 0.8605\n",
            "Epoch 9/30\n",
            "375/375 [==============================] - 1s 3ms/step - loss: 0.6390 - accuracy: 0.8491 - val_loss: 0.5788 - val_accuracy: 0.8675\n",
            "Epoch 10/30\n",
            "375/375 [==============================] - 1s 3ms/step - loss: 0.5963 - accuracy: 0.8557 - val_loss: 0.5416 - val_accuracy: 0.8729\n",
            "Epoch 11/30\n",
            "375/375 [==============================] - 1s 3ms/step - loss: 0.5622 - accuracy: 0.8611 - val_loss: 0.5113 - val_accuracy: 0.8778\n",
            "Epoch 12/30\n",
            "375/375 [==============================] - 1s 3ms/step - loss: 0.5343 - accuracy: 0.8663 - val_loss: 0.4867 - val_accuracy: 0.8813\n",
            "Epoch 13/30\n",
            "375/375 [==============================] - 1s 3ms/step - loss: 0.5109 - accuracy: 0.8705 - val_loss: 0.4662 - val_accuracy: 0.8842\n",
            "Epoch 14/30\n",
            "375/375 [==============================] - 1s 3ms/step - loss: 0.4911 - accuracy: 0.8742 - val_loss: 0.4487 - val_accuracy: 0.8869\n",
            "Epoch 15/30\n",
            "375/375 [==============================] - 1s 3ms/step - loss: 0.4740 - accuracy: 0.8770 - val_loss: 0.4337 - val_accuracy: 0.8895\n",
            "Epoch 16/30\n",
            "375/375 [==============================] - 1s 3ms/step - loss: 0.4592 - accuracy: 0.8795 - val_loss: 0.4207 - val_accuracy: 0.8926\n",
            "Epoch 17/30\n",
            "375/375 [==============================] - 1s 3ms/step - loss: 0.4461 - accuracy: 0.8819 - val_loss: 0.4092 - val_accuracy: 0.8944\n",
            "Epoch 18/30\n",
            "375/375 [==============================] - 1s 3ms/step - loss: 0.4344 - accuracy: 0.8845 - val_loss: 0.3990 - val_accuracy: 0.8963\n",
            "Epoch 19/30\n",
            "375/375 [==============================] - 1s 3ms/step - loss: 0.4240 - accuracy: 0.8864 - val_loss: 0.3899 - val_accuracy: 0.8982\n",
            "Epoch 20/30\n",
            "375/375 [==============================] - 1s 3ms/step - loss: 0.4146 - accuracy: 0.8887 - val_loss: 0.3819 - val_accuracy: 0.8997\n",
            "Epoch 21/30\n",
            "375/375 [==============================] - 1s 3ms/step - loss: 0.4060 - accuracy: 0.8906 - val_loss: 0.3744 - val_accuracy: 0.9017\n",
            "Epoch 22/30\n",
            "375/375 [==============================] - 1s 3ms/step - loss: 0.3982 - accuracy: 0.8921 - val_loss: 0.3677 - val_accuracy: 0.9030\n",
            "Epoch 23/30\n",
            "375/375 [==============================] - 1s 3ms/step - loss: 0.3911 - accuracy: 0.8940 - val_loss: 0.3615 - val_accuracy: 0.9047\n",
            "Epoch 24/30\n",
            "375/375 [==============================] - 1s 3ms/step - loss: 0.3844 - accuracy: 0.8955 - val_loss: 0.3558 - val_accuracy: 0.9049\n",
            "Epoch 25/30\n",
            "375/375 [==============================] - 1s 3ms/step - loss: 0.3783 - accuracy: 0.8966 - val_loss: 0.3507 - val_accuracy: 0.9061\n",
            "Epoch 26/30\n",
            "375/375 [==============================] - 1s 3ms/step - loss: 0.3725 - accuracy: 0.8980 - val_loss: 0.3457 - val_accuracy: 0.9071\n",
            "Epoch 27/30\n",
            "375/375 [==============================] - 1s 3ms/step - loss: 0.3672 - accuracy: 0.8992 - val_loss: 0.3410 - val_accuracy: 0.9073\n",
            "Epoch 28/30\n",
            "375/375 [==============================] - 1s 3ms/step - loss: 0.3622 - accuracy: 0.9002 - val_loss: 0.3367 - val_accuracy: 0.9084\n",
            "Epoch 29/30\n",
            "375/375 [==============================] - 1s 3ms/step - loss: 0.3575 - accuracy: 0.9012 - val_loss: 0.3327 - val_accuracy: 0.9087\n",
            "Epoch 30/30\n",
            "375/375 [==============================] - 1s 3ms/step - loss: 0.3530 - accuracy: 0.9023 - val_loss: 0.3289 - val_accuracy: 0.9093\n"
          ],
          "name": "stdout"
        }
      ]
    },
    {
      "cell_type": "markdown",
      "metadata": {
        "id": "uFqhzV85xprJ"
      },
      "source": [
        "Ezután jelenítsük meg, a tanítás során a hibát és a pontosságot a tanító és validációs adatokon:"
      ]
    },
    {
      "cell_type": "code",
      "metadata": {
        "id": "BYmXGkLCxprK",
        "outputId": "b9c5f4a2-7160-45f4-ac15-f1067fc9036d",
        "colab": {
          "base_uri": "https://localhost:8080/",
          "height": 542
        }
      },
      "source": [
        "def plot_history(network_history):\n",
        "    plt.figure()\n",
        "    plt.xlabel('Epochs')\n",
        "    plt.ylabel('Loss')\n",
        "    plt.plot(network_history.history['loss'])\n",
        "    plt.plot(network_history.history['val_loss'])\n",
        "    plt.legend(['Training', 'Validation'])\n",
        "\n",
        "    plt.figure()\n",
        "    plt.xlabel('Epochs')\n",
        "    plt.ylabel('Accuracy')\n",
        "    plt.plot(network_history.history['accuracy'])\n",
        "    plt.plot(network_history.history['val_accuracy'])\n",
        "    plt.legend(['Training', 'Validation'], loc='lower right')\n",
        "    plt.show()\n",
        "\n",
        "plot_history(network_history)"
      ],
      "execution_count": 9,
      "outputs": [
        {
          "output_type": "display_data",
          "data": {
            "image/png": "[encoded data removed]",
            "text/plain": [
              "<Figure size 432x288 with 1 Axes>"
            ]
          },
          "metadata": {
            "tags": [],
            "needs_background": "light"
          }
        },
        {
          "output_type": "display_data",
          "data": {
            "image/png": "[encoded data removed]",
            "text/plain": [
              "<Figure size 432x288 with 1 Axes>"
            ]
          },
          "metadata": {
            "tags": [],
            "needs_background": "light"
          }
        }
      ]
    },
    {
      "cell_type": "markdown",
      "metadata": {
        "id": "_Q9rIeBBxprO"
      },
      "source": [
        "# Hálózat vizsgálata"
      ]
    },
    {
      "cell_type": "code",
      "metadata": {
        "id": "6r2AmmoMxprP",
        "outputId": "d6dc60a7-8f37-49df-816a-180d3400bca1",
        "colab": {
          "base_uri": "https://localhost:8080/",
          "height": 255
        }
      },
      "source": [
        "model.summary()"
      ],
      "execution_count": 12,
      "outputs": [
        {
          "output_type": "stream",
          "text": [
            "Model: \"sequential\"\n",
            "_________________________________________________________________\n",
            "Layer (type)                 Output Shape              Param #   \n",
            "=================================================================\n",
            "dense (Dense)                (None, 256)               200960    \n",
            "_________________________________________________________________\n",
            "dense_1 (Dense)              (None, 256)               65792     \n",
            "_________________________________________________________________\n",
            "dense_2 (Dense)              (None, 10)                2570      \n",
            "=================================================================\n",
            "Total params: 269,322\n",
            "Trainable params: 269,322\n",
            "Non-trainable params: 0\n",
            "_________________________________________________________________\n"
          ],
          "name": "stdout"
        }
      ]
    },
    {
      "cell_type": "code",
      "metadata": {
        "id": "D3-bVDVuxprS",
        "outputId": "e49d160e-3250-478d-b9d9-1eb32b742d41",
        "colab": {
          "base_uri": "https://localhost:8080/",
          "height": 34
        }
      },
      "source": [
        "print('Bemenet: ', model.input)"
      ],
      "execution_count": 13,
      "outputs": [
        {
          "output_type": "stream",
          "text": [
            "Bemenet:  Tensor(\"dense_input:0\", shape=(None, 784), dtype=float32)\n"
          ],
          "name": "stdout"
        }
      ]
    },
    {
      "cell_type": "code",
      "metadata": {
        "id": "Da2OJ3DmxprX",
        "outputId": "6c0d2dcf-e83e-4f20-f30c-8822efdc0846",
        "colab": {
          "base_uri": "https://localhost:8080/",
          "height": 224
        }
      },
      "source": [
        "print('Rétegek:\\n')\n",
        "for layer in model.layers:\n",
        "    print(\"Réteg neve: \", layer.name, ', tanítható: ', layer.trainable)\n",
        "    print(layer.get_config(),'\\n')"
      ],
      "execution_count": 14,
      "outputs": [
        {
          "output_type": "stream",
          "text": [
            "Rétegek:\n",
            "\n",
            "Réteg neve:  dense , tanítható:  True\n",
            "{'name': 'dense', 'trainable': True, 'batch_input_shape': (None, 784), 'dtype': 'float32', 'units': 256, 'activation': 'relu', 'use_bias': True, 'kernel_initializer': {'class_name': 'HeNormal', 'config': {'seed': None}}, 'bias_initializer': {'class_name': 'Zeros', 'config': {}}, 'kernel_regularizer': None, 'bias_regularizer': None, 'activity_regularizer': None, 'kernel_constraint': None, 'bias_constraint': None} \n",
            "\n",
            "Réteg neve:  dense_1 , tanítható:  True\n",
            "{'name': 'dense_1', 'trainable': True, 'dtype': 'float32', 'units': 256, 'activation': 'relu', 'use_bias': True, 'kernel_initializer': {'class_name': 'HeNormal', 'config': {'seed': None}}, 'bias_initializer': {'class_name': 'Zeros', 'config': {}}, 'kernel_regularizer': None, 'bias_regularizer': None, 'activity_regularizer': None, 'kernel_constraint': None, 'bias_constraint': None} \n",
            "\n",
            "Réteg neve:  dense_2 , tanítható:  True\n",
            "{'name': 'dense_2', 'trainable': True, 'dtype': 'float32', 'units': 10, 'activation': 'softmax', 'use_bias': True, 'kernel_initializer': {'class_name': 'GlorotUniform', 'config': {'seed': None}}, 'bias_initializer': {'class_name': 'Zeros', 'config': {}}, 'kernel_regularizer': None, 'bias_regularizer': None, 'activity_regularizer': None, 'kernel_constraint': None, 'bias_constraint': None} \n",
            "\n"
          ],
          "name": "stdout"
        }
      ]
    },
    {
      "cell_type": "code",
      "metadata": {
        "id": "AtVX3M3lxprc",
        "outputId": "ab163752-3645-4709-ad0d-73e19804742d",
        "colab": {
          "base_uri": "https://localhost:8080/",
          "height": 34
        }
      },
      "source": [
        "print('Kimenet: ', model.output)"
      ],
      "execution_count": 15,
      "outputs": [
        {
          "output_type": "stream",
          "text": [
            "Kimenet:  Tensor(\"dense_2/Softmax:0\", shape=(None, 10), dtype=float32)\n"
          ],
          "name": "stdout"
        }
      ]
    },
    {
      "cell_type": "markdown",
      "metadata": {
        "id": "L8Y7Gq_WBXA2"
      },
      "source": [
        "# Adatok és aktivációk vizsgálata TensorBoard projectorban\n"
      ]
    },
    {
      "cell_type": "code",
      "metadata": {
        "id": "uxhunj5-OyNN",
        "outputId": "9b2a61fc-c129-4575-c51e-d84beae3bfab",
        "colab": {
          "base_uri": "https://localhost:8080/",
          "height": 34
        }
      },
      "source": [
        "from tensorflow.keras import backend as K\n",
        "from tensorflow.keras.models import Model\n",
        "\n",
        "# a modell bemenetének megadása\n",
        "inp = model.input              \n",
        "# a modell összes kimenetének a listázása                             \n",
        "outputs = [layer.output for layer in model.layers]\n",
        "print(outputs)"
      ],
      "execution_count": 19,
      "outputs": [
        {
          "output_type": "stream",
          "text": [
            "[<tf.Tensor 'dense/Relu:0' shape=(None, 256) dtype=float32>, <tf.Tensor 'dense_1/Relu:0' shape=(None, 256) dtype=float32>, <tf.Tensor 'dense_2/Softmax:0' shape=(None, 10) dtype=float32>]\n"
          ],
          "name": "stdout"
        }
      ]
    },
    {
      "cell_type": "markdown",
      "metadata": {
        "id": "o9m5_reZQQnz"
      },
      "source": [
        "Létrehozunk két almodellt, melyek kimenete az adott rétegek kimenete:"
      ]
    },
    {
      "cell_type": "code",
      "metadata": {
        "id": "WGLFa8esPMg0"
      },
      "source": [
        "submodel_1 = Model(inp, outputs[0])\n",
        "submodel_2 = Model(inp, outputs[1])"
      ],
      "execution_count": 20,
      "outputs": []
    },
    {
      "cell_type": "markdown",
      "metadata": {
        "id": "F7rkonUEQeOC"
      },
      "source": [
        "Ezt követően a teszt adatbázis 500 mintájával csinálunk egy-egy predikciót és külön tensor-okba mentünk el:"
      ]
    },
    {
      "cell_type": "code",
      "metadata": {
        "id": "zwObXeDIQlkU"
      },
      "source": [
        "X_test500 = X_test[:500]\n",
        "Y_test500 = Y_test[:500]"
      ],
      "execution_count": 21,
      "outputs": []
    },
    {
      "cell_type": "code",
      "metadata": {
        "id": "fgMafl5uQltr"
      },
      "source": [
        "pred_1 = submodel_1.predict(X_test500)\n",
        "pred_2 = submodel_2.predict(X_test500)"
      ],
      "execution_count": 22,
      "outputs": []
    },
    {
      "cell_type": "markdown",
      "metadata": {
        "id": "_SeG4rjBRWQU"
      },
      "source": [
        "Ezt követően pedig a nyers adatokat és a réteg aktivációkat kiírjuk a TensorBoard Projektor számára. Ehhez a TensorBoardX csomagot fogjuk használni, amit telepíteni kell:"
      ]
    },
    {
      "cell_type": "code",
      "metadata": {
        "id": "VJP4YO1VQMgu",
        "outputId": "292b3abf-7417-4b06-a34a-dc77fa9589c5",
        "colab": {
          "base_uri": "https://localhost:8080/",
          "height": 170
        }
      },
      "source": [
        "!pip install tensorboardX"
      ],
      "execution_count": 24,
      "outputs": [
        {
          "output_type": "stream",
          "text": [
            "Collecting tensorboardX\n",
            "\u001b[?25l  Downloading https://files.pythonhosted.org/packages/af/0c/4f41bcd45db376e6fe5c619c01100e9b7531c55791b7244815bac6eac32c/tensorboardX-2.1-py2.py3-none-any.whl (308kB)\n",
            "\r\u001b[K     |█                               | 10kB 15.1MB/s eta 0:00:01\r\u001b[K     |██▏                             | 20kB 2.9MB/s eta 0:00:01\r\u001b[K     |███▏                            | 30kB 3.5MB/s eta 0:00:01\r\u001b[K     |████▎                           | 40kB 3.7MB/s eta 0:00:01\r\u001b[K     |█████▎                          | 51kB 3.3MB/s eta 0:00:01\r\u001b[K     |██████▍                         | 61kB 3.7MB/s eta 0:00:01\r\u001b[K     |███████▍                        | 71kB 3.9MB/s eta 0:00:01\r\u001b[K     |████████▌                       | 81kB 4.3MB/s eta 0:00:01\r\u001b[K     |█████████▌                      | 92kB 4.5MB/s eta 0:00:01\r\u001b[K     |██████████▋                     | 102kB 4.4MB/s eta 0:00:01\r\u001b[K     |███████████▊                    | 112kB 4.4MB/s eta 0:00:01\r\u001b[K     |████████████▊                   | 122kB 4.4MB/s eta 0:00:01\r\u001b[K     |█████████████▉                  | 133kB 4.4MB/s eta 0:00:01\r\u001b[K     |██████████████▉                 | 143kB 4.4MB/s eta 0:00:01\r\u001b[K     |████████████████                | 153kB 4.4MB/s eta 0:00:01\r\u001b[K     |█████████████████               | 163kB 4.4MB/s eta 0:00:01\r\u001b[K     |██████████████████              | 174kB 4.4MB/s eta 0:00:01\r\u001b[K     |███████████████████             | 184kB 4.4MB/s eta 0:00:01\r\u001b[K     |████████████████████▏           | 194kB 4.4MB/s eta 0:00:01\r\u001b[K     |█████████████████████▎          | 204kB 4.4MB/s eta 0:00:01\r\u001b[K     |██████████████████████▎         | 215kB 4.4MB/s eta 0:00:01\r\u001b[K     |███████████████████████▍        | 225kB 4.4MB/s eta 0:00:01\r\u001b[K     |████████████████████████▍       | 235kB 4.4MB/s eta 0:00:01\r\u001b[K     |█████████████████████████▌      | 245kB 4.4MB/s eta 0:00:01\r\u001b[K     |██████████████████████████▌     | 256kB 4.4MB/s eta 0:00:01\r\u001b[K     |███████████████████████████▋    | 266kB 4.4MB/s eta 0:00:01\r\u001b[K     |████████████████████████████▋   | 276kB 4.4MB/s eta 0:00:01\r\u001b[K     |█████████████████████████████▊  | 286kB 4.4MB/s eta 0:00:01\r\u001b[K     |██████████████████████████████▊ | 296kB 4.4MB/s eta 0:00:01\r\u001b[K     |███████████████████████████████▉| 307kB 4.4MB/s eta 0:00:01\r\u001b[K     |████████████████████████████████| 317kB 4.4MB/s \n",
            "\u001b[?25hRequirement already satisfied: six in /usr/local/lib/python3.6/dist-packages (from tensorboardX) (1.15.0)\n",
            "Requirement already satisfied: numpy in /usr/local/lib/python3.6/dist-packages (from tensorboardX) (1.18.5)\n",
            "Requirement already satisfied: protobuf>=3.8.0 in /usr/local/lib/python3.6/dist-packages (from tensorboardX) (3.12.4)\n",
            "Requirement already satisfied: setuptools in /usr/local/lib/python3.6/dist-packages (from protobuf>=3.8.0->tensorboardX) (50.3.0)\n",
            "Installing collected packages: tensorboardX\n",
            "Successfully installed tensorboardX-2.1\n"
          ],
          "name": "stdout"
        }
      ]
    },
    {
      "cell_type": "code",
      "metadata": {
        "id": "J_xv3kimRsnL",
        "outputId": "6ac92a39-c568-4690-c3c8-694f414397f5",
        "colab": {
          "base_uri": "https://localhost:8080/",
          "height": 34
        }
      },
      "source": [
        "logdir = 'logs/'\n",
        "from tensorboardX import SummaryWriter\n",
        "\n",
        "with SummaryWriter(logdir+'/projector/raw_data') as w:\n",
        "  w.add_embedding(X_test500, metadata=np.argmax(Y_test500,1), label_img=X_test500.reshape(500,1,28,28), global_step=0)\n",
        "\n",
        "with SummaryWriter(logdir+'/projector/submodel_1') as w:\n",
        "  w.add_embedding(pred_1, metadata=np.argmax(Y_test500,1), label_img=X_test500.reshape(500,1,28,28), global_step=0)\n",
        "\n",
        "with SummaryWriter(logdir+'/projector/submodel_2') as w:\n",
        "  w.add_embedding(pred_2, metadata=np.argmax(Y_test500,1), label_img=X_test500.reshape(500,1,28,28), global_step=0)\n"
      ],
      "execution_count": 27,
      "outputs": [
        {
          "output_type": "stream",
          "text": [
            "warning: Embedding dir exists, did you set global_step for add_embedding()?\n"
          ],
          "name": "stdout"
        }
      ]
    },
    {
      "cell_type": "markdown",
      "metadata": {
        "id": "1SWP0pvcSlBT"
      },
      "source": [
        "Végül pedig vizsgáljuk meg TensorBoard-ban a beágyazásokat. Ha esetleg a Projector menüpont nem jelenik meg, akkor az inactive menük közül válaszd ki:"
      ]
    },
    {
      "cell_type": "code",
      "metadata": {
        "id": "fzDS7Qs4SdR8",
        "outputId": "784353bd-5fbe-4b96-d656-d14d04665bca",
        "colab": {
          "base_uri": "https://localhost:8080/",
          "height": 51
        }
      },
      "source": [
        "%load_ext tensorboard"
      ],
      "execution_count": 29,
      "outputs": [
        {
          "output_type": "stream",
          "text": [
            "The tensorboard extension is already loaded. To reload it, use:\n",
            "  %reload_ext tensorboard\n"
          ],
          "name": "stdout"
        }
      ]
    },
    {
      "cell_type": "code",
      "metadata": {
        "id": "nqkBZf00Sp4a"
      },
      "source": [
        "%tensorboard --logdir logs"
      ],
      "execution_count": null,
      "outputs": []
    },
    {
      "cell_type": "code",
      "metadata": {
        "id": "cdqODx92Svw7"
      },
      "source": [
        ""
      ],
      "execution_count": null,
      "outputs": []
    }
  ]
}