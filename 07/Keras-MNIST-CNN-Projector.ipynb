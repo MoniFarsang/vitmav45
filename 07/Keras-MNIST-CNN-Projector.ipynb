{
  "nbformat": 4,
  "nbformat_minor": 0,
  "metadata": {
    "accelerator": "GPU",
    "colab": {
      "name": "Keras-MNIST-CNN-Projector.ipynb",
      "provenance": [],
      "collapsed_sections": []
    },
    "kernelspec": {
      "name": "python3",
      "display_name": "Python 3"
    },
    "language_info": {
      "codemirror_mode": {
        "name": "ipython",
        "version": 3
      },
      "file_extension": ".py",
      "mimetype": "text/x-python",
      "name": "python",
      "nbconvert_exporter": "python",
      "pygments_lexer": "ipython3",
      "version": "3.6.6"
    }
  },
  "cells": [
    {
      "cell_type": "markdown",
      "metadata": {
        "id": "OVLEIMxAc8sO"
      },
      "source": [
        "# Copyright\n",
        "\n",
        "<PRE>\n",
        "Jelen Jupyter notebook a Budapesti Műszaki és Gazdaságtudományi Egyetemen tartott \"Deep Learning a gyakorlatban Python és LUA alapon\" tantárgy segédanyagaként készült. \n",
        "A tantárgy honlapja: http://smartlab.tmit.bme.hu/oktatas-deep-learning\n",
        "Deep Learning kutatás: http://smartlab.tmit.bme.hu/deep-learning\n",
        "\n",
        "A notebook bármely részének újra felhasználása, publikálása csak a szerzők írásos beleegyezése esetén megegengedett.\n",
        "\n",
        "2020 (c) Gyires-Tóth Bálint (toth.b kukac tmit pont bme pont hu)\n",
        "</PRE>"
      ]
    },
    {
      "cell_type": "markdown",
      "metadata": {
        "id": "eIpucgcbc8sQ"
      },
      "source": [
        "# Konvolúciós neurális hálózatok - alapok\n",
        "Jelen notebookban a konvolúciós hálók használatának alapjaival ismerkedünk meg. Az itteni példa publikusan elérhető kép adatbázisok két dimenziós konvolúciós hálózattal történő feldolgozásáról fog szólni. Fontos megjegyezni, hogy ahogy a konvolúciós hálók felhasználása ma már sokkal bővebb, mint pusztán képfelismerés, szinte bármilyen tématerületen sikeresen alkalmazzák (pl. beszéd, hang, idősorok, játék botok, stb.).\n",
        "\n",
        "Az első példánkban Yann LeCunn professzor MNIST kézzel írott szám adatbázisát fogjuk betanítani a hálóval. Az adatbázis elérhető publikusan: http://yann.lecun.com/exdb/mnist/\n",
        "Illetve szinte mindegyik nagyobb deep learning frameworkben be lehet tölteni parancssorból. A mostani példában előbb a Keras-t fogjuk használni, majd a Tensorflow 2.0 Keras interfészét. Az adatokat is a Keras-on keresztül töltjük be:"
      ]
    },
    {
      "cell_type": "code",
      "metadata": {
        "id": "cJq9IAKzRCsQ",
        "outputId": "61d5e0aa-e00f-4cf2-874c-47604cdaf348",
        "colab": {
          "base_uri": "https://localhost:8080/",
          "height": 51
        }
      },
      "source": [
        "from tensorflow.keras.datasets import mnist\n",
        "from tensorflow.keras.utils import to_categorical\n",
        "\n",
        "(x_train, y_train), (x_test, y_test) = mnist.load_data()"
      ],
      "execution_count": 1,
      "outputs": [
        {
          "output_type": "stream",
          "text": [
            "Downloading data from https://storage.googleapis.com/tensorflow/tf-keras-datasets/mnist.npz\n",
            "11493376/11490434 [==============================] - 0s 0us/step\n"
          ],
          "name": "stdout"
        }
      ]
    },
    {
      "cell_type": "code",
      "metadata": {
        "id": "nnD2FvUgRHdJ"
      },
      "source": [
        "x_train = x_train / 255\n",
        "x_test = x_test / 255\n",
        "\n",
        "x_train = x_train.reshape(-1,28,28,1)\n",
        "x_test = x_test.reshape(-1,28,28,1)\n",
        "x_train = x_train.astype(\"float32\")\n",
        "x_test = x_test.astype(\"float32\")\n",
        "\n",
        "y_train = to_categorical(y_train, 10)\n",
        "y_test = to_categorical(y_test, 10)\n",
        "\n",
        "batch_size=128"
      ],
      "execution_count": 2,
      "outputs": []
    },
    {
      "cell_type": "markdown",
      "metadata": {
        "id": "d4PlUyDlRODm"
      },
      "source": [
        "A tanítás előtt kapcsoljuk be a GPU-t Colab alatt (Runtime/Change runtime type). Ezután létrehozunk egy egyszerű modellt softmax aktivációs függvénnyel és betanítjuk batch_size batch mérettel:"
      ]
    },
    {
      "cell_type": "code",
      "metadata": {
        "id": "cXIpmWuoRNOf",
        "outputId": "21944f5a-d45b-42da-8019-2bffa53175c9",
        "colab": {
          "base_uri": "https://localhost:8080/",
          "height": 476
        }
      },
      "source": [
        "from tensorflow.keras.models import Sequential\n",
        "from tensorflow.keras.layers import Dense, Conv2D, MaxPooling2D, Dropout, Flatten, Embedding\n",
        "from tensorflow.keras.optimizers import SGD\n",
        "\n",
        "model = Sequential() \n",
        "model.add(Conv2D(6, kernel_size=(5, 5), activation='relu', input_shape=(28,28,1,))) \n",
        "model.add(MaxPooling2D(pool_size=(2, 2))) \n",
        "model.add(Conv2D(16, (5, 5), activation='relu')) \n",
        "model.add(MaxPooling2D(pool_size=(2, 2))) \n",
        "model.add(Dropout(0.25))\n",
        "model.add(Flatten())\n",
        "model.add(Dense(128, activation='relu'))\n",
        "model.add(Dropout(0.5))\n",
        "model.add(Dense(10, activation='softmax')) \n",
        "\n",
        "print(model.summary())\n"
      ],
      "execution_count": 3,
      "outputs": [
        {
          "output_type": "stream",
          "text": [
            "Model: \"sequential\"\n",
            "_________________________________________________________________\n",
            "Layer (type)                 Output Shape              Param #   \n",
            "=================================================================\n",
            "conv2d (Conv2D)              (None, 24, 24, 6)         156       \n",
            "_________________________________________________________________\n",
            "max_pooling2d (MaxPooling2D) (None, 12, 12, 6)         0         \n",
            "_________________________________________________________________\n",
            "conv2d_1 (Conv2D)            (None, 8, 8, 16)          2416      \n",
            "_________________________________________________________________\n",
            "max_pooling2d_1 (MaxPooling2 (None, 4, 4, 16)          0         \n",
            "_________________________________________________________________\n",
            "dropout (Dropout)            (None, 4, 4, 16)          0         \n",
            "_________________________________________________________________\n",
            "flatten (Flatten)            (None, 256)               0         \n",
            "_________________________________________________________________\n",
            "dense (Dense)                (None, 128)               32896     \n",
            "_________________________________________________________________\n",
            "dropout_1 (Dropout)          (None, 128)               0         \n",
            "_________________________________________________________________\n",
            "dense_1 (Dense)              (None, 10)                1290      \n",
            "=================================================================\n",
            "Total params: 36,758\n",
            "Trainable params: 36,758\n",
            "Non-trainable params: 0\n",
            "_________________________________________________________________\n",
            "None\n"
          ],
          "name": "stdout"
        }
      ]
    },
    {
      "cell_type": "code",
      "metadata": {
        "id": "GcDFpALVShsp"
      },
      "source": [
        "# Early stopping, amellyel figyeljük a validációs hibát (alap beállítás)\n",
        "from tensorflow.keras.callbacks import EarlyStopping, ModelCheckpoint, TensorBoard\n",
        "patience=10\n",
        "early_stopping=EarlyStopping(patience=patience, verbose=1)\n",
        "# Szintén a validációs hibát figyeljük, és elmentjük a legjobb modellt\n",
        "checkpointer=ModelCheckpoint(filepath='model.hdf5', save_best_only=True, verbose=1)\n",
        "tb = TensorBoard(log_dir='logs', histogram_freq=1, write_graph=1)"
      ],
      "execution_count": 4,
      "outputs": []
    },
    {
      "cell_type": "code",
      "metadata": {
        "id": "R-ueQiziSJve",
        "outputId": "56c0dc7f-d48a-4d6e-b679-61750391bbd0",
        "colab": {
          "base_uri": "https://localhost:8080/",
          "height": 1000
        }
      },
      "source": [
        "model.compile(loss='categorical_crossentropy', optimizer='adam', metrics=['accuracy'])\n",
        "\n",
        "network_history = model.fit(x_train, y_train, batch_size=128, epochs=30, verbose=1, validation_split=0.2, callbacks=[early_stopping, checkpointer, tb])"
      ],
      "execution_count": 5,
      "outputs": [
        {
          "output_type": "stream",
          "text": [
            "Epoch 1/30\n",
            "  1/375 [..............................] - ETA: 0s - loss: 2.3212 - accuracy: 0.0859WARNING:tensorflow:From /usr/local/lib/python3.6/dist-packages/tensorflow/python/ops/summary_ops_v2.py:1277: stop (from tensorflow.python.eager.profiler) is deprecated and will be removed after 2020-07-01.\n",
            "Instructions for updating:\n",
            "use `tf.profiler.experimental.stop` instead.\n",
            "WARNING:tensorflow:Callbacks method `on_train_batch_end` is slow compared to the batch time (batch time: 0.0103s vs `on_train_batch_end` time: 0.0284s). Check your callbacks.\n",
            "362/375 [===========================>..] - ETA: 0s - loss: 0.5927 - accuracy: 0.8097\n",
            "Epoch 00001: val_loss improved from inf to 0.12425, saving model to model.hdf5\n",
            "375/375 [==============================] - 2s 5ms/step - loss: 0.5800 - accuracy: 0.8140 - val_loss: 0.1242 - val_accuracy: 0.9632\n",
            "Epoch 2/30\n",
            "375/375 [==============================] - ETA: 0s - loss: 0.2042 - accuracy: 0.9378\n",
            "Epoch 00002: val_loss improved from 0.12425 to 0.09356, saving model to model.hdf5\n",
            "375/375 [==============================] - 2s 4ms/step - loss: 0.2042 - accuracy: 0.9378 - val_loss: 0.0936 - val_accuracy: 0.9714\n",
            "Epoch 3/30\n",
            "361/375 [===========================>..] - ETA: 0s - loss: 0.1572 - accuracy: 0.9526\n",
            "Epoch 00003: val_loss improved from 0.09356 to 0.06991, saving model to model.hdf5\n",
            "375/375 [==============================] - 2s 4ms/step - loss: 0.1564 - accuracy: 0.9530 - val_loss: 0.0699 - val_accuracy: 0.9789\n",
            "Epoch 4/30\n",
            "360/375 [===========================>..] - ETA: 0s - loss: 0.1332 - accuracy: 0.9588\n",
            "Epoch 00004: val_loss improved from 0.06991 to 0.06328, saving model to model.hdf5\n",
            "375/375 [==============================] - 2s 4ms/step - loss: 0.1337 - accuracy: 0.9585 - val_loss: 0.0633 - val_accuracy: 0.9812\n",
            "Epoch 5/30\n",
            "367/375 [============================>.] - ETA: 0s - loss: 0.1184 - accuracy: 0.9647\n",
            "Epoch 00005: val_loss improved from 0.06328 to 0.05838, saving model to model.hdf5\n",
            "375/375 [==============================] - 2s 4ms/step - loss: 0.1182 - accuracy: 0.9647 - val_loss: 0.0584 - val_accuracy: 0.9821\n",
            "Epoch 6/30\n",
            "373/375 [============================>.] - ETA: 0s - loss: 0.1061 - accuracy: 0.9680\n",
            "Epoch 00006: val_loss improved from 0.05838 to 0.05411, saving model to model.hdf5\n",
            "375/375 [==============================] - 2s 4ms/step - loss: 0.1059 - accuracy: 0.9680 - val_loss: 0.0541 - val_accuracy: 0.9847\n",
            "Epoch 7/30\n",
            "364/375 [============================>.] - ETA: 0s - loss: 0.0992 - accuracy: 0.9703\n",
            "Epoch 00007: val_loss improved from 0.05411 to 0.05208, saving model to model.hdf5\n",
            "375/375 [==============================] - 2s 4ms/step - loss: 0.0987 - accuracy: 0.9706 - val_loss: 0.0521 - val_accuracy: 0.9847\n",
            "Epoch 8/30\n",
            "369/375 [============================>.] - ETA: 0s - loss: 0.0925 - accuracy: 0.9713\n",
            "Epoch 00008: val_loss improved from 0.05208 to 0.04788, saving model to model.hdf5\n",
            "375/375 [==============================] - 2s 4ms/step - loss: 0.0925 - accuracy: 0.9713 - val_loss: 0.0479 - val_accuracy: 0.9852\n",
            "Epoch 9/30\n",
            "373/375 [============================>.] - ETA: 0s - loss: 0.0853 - accuracy: 0.9740\n",
            "Epoch 00009: val_loss did not improve from 0.04788\n",
            "375/375 [==============================] - 2s 4ms/step - loss: 0.0853 - accuracy: 0.9740 - val_loss: 0.0515 - val_accuracy: 0.9849\n",
            "Epoch 10/30\n",
            "362/375 [===========================>..] - ETA: 0s - loss: 0.0771 - accuracy: 0.9760\n",
            "Epoch 00010: val_loss improved from 0.04788 to 0.04599, saving model to model.hdf5\n",
            "375/375 [==============================] - 2s 4ms/step - loss: 0.0778 - accuracy: 0.9759 - val_loss: 0.0460 - val_accuracy: 0.9871\n",
            "Epoch 11/30\n",
            "372/375 [============================>.] - ETA: 0s - loss: 0.0768 - accuracy: 0.9758\n",
            "Epoch 00011: val_loss improved from 0.04599 to 0.04374, saving model to model.hdf5\n",
            "375/375 [==============================] - 2s 4ms/step - loss: 0.0768 - accuracy: 0.9759 - val_loss: 0.0437 - val_accuracy: 0.9868\n",
            "Epoch 12/30\n",
            "369/375 [============================>.] - ETA: 0s - loss: 0.0731 - accuracy: 0.9784\n",
            "Epoch 00012: val_loss did not improve from 0.04374\n",
            "375/375 [==============================] - 2s 4ms/step - loss: 0.0738 - accuracy: 0.9782 - val_loss: 0.0449 - val_accuracy: 0.9871\n",
            "Epoch 13/30\n",
            "362/375 [===========================>..] - ETA: 0s - loss: 0.0708 - accuracy: 0.9781\n",
            "Epoch 00013: val_loss improved from 0.04374 to 0.04035, saving model to model.hdf5\n",
            "375/375 [==============================] - 2s 4ms/step - loss: 0.0704 - accuracy: 0.9781 - val_loss: 0.0404 - val_accuracy: 0.9878\n",
            "Epoch 14/30\n",
            "361/375 [===========================>..] - ETA: 0s - loss: 0.0669 - accuracy: 0.9786\n",
            "Epoch 00014: val_loss did not improve from 0.04035\n",
            "375/375 [==============================] - 1s 4ms/step - loss: 0.0665 - accuracy: 0.9787 - val_loss: 0.0415 - val_accuracy: 0.9883\n",
            "Epoch 15/30\n",
            "375/375 [==============================] - ETA: 0s - loss: 0.0666 - accuracy: 0.9795\n",
            "Epoch 00015: val_loss did not improve from 0.04035\n",
            "375/375 [==============================] - 2s 4ms/step - loss: 0.0666 - accuracy: 0.9795 - val_loss: 0.0427 - val_accuracy: 0.9875\n",
            "Epoch 16/30\n",
            "373/375 [============================>.] - ETA: 0s - loss: 0.0629 - accuracy: 0.9809\n",
            "Epoch 00016: val_loss improved from 0.04035 to 0.04023, saving model to model.hdf5\n",
            "375/375 [==============================] - 2s 4ms/step - loss: 0.0629 - accuracy: 0.9809 - val_loss: 0.0402 - val_accuracy: 0.9883\n",
            "Epoch 17/30\n",
            "372/375 [============================>.] - ETA: 0s - loss: 0.0597 - accuracy: 0.9816\n",
            "Epoch 00017: val_loss improved from 0.04023 to 0.03798, saving model to model.hdf5\n",
            "375/375 [==============================] - 2s 4ms/step - loss: 0.0598 - accuracy: 0.9816 - val_loss: 0.0380 - val_accuracy: 0.9886\n",
            "Epoch 18/30\n",
            "375/375 [==============================] - ETA: 0s - loss: 0.0560 - accuracy: 0.9821\n",
            "Epoch 00018: val_loss did not improve from 0.03798\n",
            "375/375 [==============================] - 1s 4ms/step - loss: 0.0560 - accuracy: 0.9821 - val_loss: 0.0386 - val_accuracy: 0.9893\n",
            "Epoch 19/30\n",
            "373/375 [============================>.] - ETA: 0s - loss: 0.0559 - accuracy: 0.9824\n",
            "Epoch 00019: val_loss improved from 0.03798 to 0.03732, saving model to model.hdf5\n",
            "375/375 [==============================] - 2s 4ms/step - loss: 0.0559 - accuracy: 0.9824 - val_loss: 0.0373 - val_accuracy: 0.9893\n",
            "Epoch 20/30\n",
            "360/375 [===========================>..] - ETA: 0s - loss: 0.0544 - accuracy: 0.9827\n",
            "Epoch 00020: val_loss did not improve from 0.03732\n",
            "375/375 [==============================] - 1s 4ms/step - loss: 0.0546 - accuracy: 0.9828 - val_loss: 0.0395 - val_accuracy: 0.9890\n",
            "Epoch 21/30\n",
            "361/375 [===========================>..] - ETA: 0s - loss: 0.0538 - accuracy: 0.9827\n",
            "Epoch 00021: val_loss did not improve from 0.03732\n",
            "375/375 [==============================] - 1s 4ms/step - loss: 0.0540 - accuracy: 0.9825 - val_loss: 0.0388 - val_accuracy: 0.9892\n",
            "Epoch 22/30\n",
            "374/375 [============================>.] - ETA: 0s - loss: 0.0512 - accuracy: 0.9839\n",
            "Epoch 00022: val_loss did not improve from 0.03732\n",
            "375/375 [==============================] - 1s 4ms/step - loss: 0.0511 - accuracy: 0.9839 - val_loss: 0.0380 - val_accuracy: 0.9897\n",
            "Epoch 23/30\n",
            "374/375 [============================>.] - ETA: 0s - loss: 0.0499 - accuracy: 0.9850\n",
            "Epoch 00023: val_loss improved from 0.03732 to 0.03525, saving model to model.hdf5\n",
            "375/375 [==============================] - 2s 4ms/step - loss: 0.0499 - accuracy: 0.9850 - val_loss: 0.0353 - val_accuracy: 0.9902\n",
            "Epoch 24/30\n",
            "368/375 [============================>.] - ETA: 0s - loss: 0.0518 - accuracy: 0.9845\n",
            "Epoch 00024: val_loss did not improve from 0.03525\n",
            "375/375 [==============================] - 1s 4ms/step - loss: 0.0518 - accuracy: 0.9845 - val_loss: 0.0384 - val_accuracy: 0.9894\n",
            "Epoch 25/30\n",
            "365/375 [============================>.] - ETA: 0s - loss: 0.0496 - accuracy: 0.9847\n",
            "Epoch 00025: val_loss improved from 0.03525 to 0.03440, saving model to model.hdf5\n",
            "375/375 [==============================] - 2s 4ms/step - loss: 0.0495 - accuracy: 0.9847 - val_loss: 0.0344 - val_accuracy: 0.9911\n",
            "Epoch 26/30\n",
            "362/375 [===========================>..] - ETA: 0s - loss: 0.0479 - accuracy: 0.9846\n",
            "Epoch 00026: val_loss did not improve from 0.03440\n",
            "375/375 [==============================] - 1s 4ms/step - loss: 0.0476 - accuracy: 0.9846 - val_loss: 0.0355 - val_accuracy: 0.9901\n",
            "Epoch 27/30\n",
            "368/375 [============================>.] - ETA: 0s - loss: 0.0492 - accuracy: 0.9846\n",
            "Epoch 00027: val_loss did not improve from 0.03440\n",
            "375/375 [==============================] - 2s 4ms/step - loss: 0.0495 - accuracy: 0.9845 - val_loss: 0.0389 - val_accuracy: 0.9902\n",
            "Epoch 28/30\n",
            "366/375 [============================>.] - ETA: 0s - loss: 0.0444 - accuracy: 0.9865\n",
            "Epoch 00028: val_loss did not improve from 0.03440\n",
            "375/375 [==============================] - 2s 4ms/step - loss: 0.0440 - accuracy: 0.9865 - val_loss: 0.0377 - val_accuracy: 0.9893\n",
            "Epoch 29/30\n",
            "367/375 [============================>.] - ETA: 0s - loss: 0.0439 - accuracy: 0.9858\n",
            "Epoch 00029: val_loss did not improve from 0.03440\n",
            "375/375 [==============================] - 2s 4ms/step - loss: 0.0442 - accuracy: 0.9856 - val_loss: 0.0357 - val_accuracy: 0.9913\n",
            "Epoch 30/30\n",
            "366/375 [============================>.] - ETA: 0s - loss: 0.0460 - accuracy: 0.9858\n",
            "Epoch 00030: val_loss did not improve from 0.03440\n",
            "375/375 [==============================] - 2s 4ms/step - loss: 0.0457 - accuracy: 0.9860 - val_loss: 0.0350 - val_accuracy: 0.9908\n"
          ],
          "name": "stdout"
        }
      ]
    },
    {
      "cell_type": "markdown",
      "metadata": {
        "id": "Mg04dw-WTmON"
      },
      "source": [
        "Ezután visszatöltjük a legjobb modellt és teszteljük:"
      ]
    },
    {
      "cell_type": "code",
      "metadata": {
        "id": "bDtd64JDTpKF",
        "outputId": "1ac42983-10fa-4d08-8da2-999ca15753a5",
        "colab": {
          "base_uri": "https://localhost:8080/",
          "height": 51
        }
      },
      "source": [
        "from keras.models import load_model\n",
        "model = load_model(\"model.hdf5\")\n",
        "test_err = model.evaluate(x_test,y_test)\n",
        "print(\"Teszt hiba:\", test_err[0], \"Teszt pontosság:\", test_err[1])"
      ],
      "execution_count": 6,
      "outputs": [
        {
          "output_type": "stream",
          "text": [
            "313/313 [==============================] - 1s 2ms/step - loss: 0.0234 - accuracy: 0.9922\n",
            "Teszt hiba: 0.023425737395882607 Teszt pontosság: 0.9922000169754028\n"
          ],
          "name": "stdout"
        }
      ]
    },
    {
      "cell_type": "markdown",
      "metadata": {
        "id": "3uUtVZTbS7gE"
      },
      "source": [
        "## Metrikák, tévesztési mátrix\n",
        "Nézzük először, hogy hogyan tudjuk kiszámolni az osztályozáshoz tartozó legfontosabb metrikákat és hogyan tudjuk megjeleníteni a konfúziós mátrixot:"
      ]
    },
    {
      "cell_type": "code",
      "metadata": {
        "id": "a147JluHTAJF",
        "outputId": "de509795-d4ef-4229-d56f-d4778ad7be7b",
        "colab": {
          "base_uri": "https://localhost:8080/",
          "height": 289
        }
      },
      "source": [
        "import numpy as np\n",
        "from sklearn.metrics import accuracy_score, precision_score, recall_score, f1_score, roc_curve, confusion_matrix\n",
        "# először is nyerjük ki a predikciókat (valószínüség és hozzá tartozó pontosságot)\n",
        "y_pred = model.predict(x_test)\n",
        "y_pred = np.argmax(y_pred,1)\n",
        "y_true = np.argmax(y_test,1)\n",
        "\n",
        "print(\"test accuracy: %g\" %(accuracy_score(y_true, y_pred)))\n",
        "print(\"Precision\", precision_score(y_true, y_pred, average=\"macro\"))\n",
        "print(\"Recall\", recall_score(y_true, y_pred, average=\"macro\"))\n",
        "print(\"f1_score\", f1_score(y_true, y_pred, average=\"macro\"))\n",
        "print(\"\\nKonfúziós mátrix: \")\n",
        "conf=confusion_matrix(y_true, y_pred)\n",
        "print(conf)"
      ],
      "execution_count": 7,
      "outputs": [
        {
          "output_type": "stream",
          "text": [
            "test accuracy: 0.9922\n",
            "Precision 0.9921511176445845\n",
            "Recall 0.9921018898612195\n",
            "f1_score 0.9921176409348658\n",
            "\n",
            "Konfúziós mátrix: \n",
            "[[ 976    0    1    0    0    0    2    1    0    0]\n",
            " [   0 1130    1    2    0    0    0    2    0    0]\n",
            " [   1    0 1027    1    1    0    0    2    0    0]\n",
            " [   0    0    1 1005    0    3    0    1    0    0]\n",
            " [   0    0    0    0  976    0    0    1    1    4]\n",
            " [   1    0    0    8    0  881    1    1    0    0]\n",
            " [   4    1    0    0    1    2  949    0    1    0]\n",
            " [   0    2    2    1    1    0    0 1021    0    1]\n",
            " [   0    0    2    1    0    3    0    1  966    1]\n",
            " [   0    0    0    0    6    3    0    7    2  991]]\n"
          ],
          "name": "stdout"
        }
      ]
    },
    {
      "cell_type": "markdown",
      "metadata": {
        "id": "LF3kLYcoTab6"
      },
      "source": [
        "A tévesztési mátrixot vizuálisan is érdemes vizsgálni:"
      ]
    },
    {
      "cell_type": "code",
      "metadata": {
        "id": "4Go_Q0_oTUUI",
        "outputId": "63833362-fa77-45ea-df1c-d55e8ef76acb",
        "colab": {
          "base_uri": "https://localhost:8080/",
          "height": 286
        }
      },
      "source": [
        "import seaborn as sns\n",
        "sns.heatmap(conf, annot=True, fmt='d', vmax=20) # a vmax paraméterrel állítjuk be, hogy milyen értéktartományban jelenítse meg az adatokat"
      ],
      "execution_count": 8,
      "outputs": [
        {
          "output_type": "execute_result",
          "data": {
            "text/plain": [
              "<matplotlib.axes._subplots.AxesSubplot at 0x7ff2eea97240>"
            ]
          },
          "metadata": {
            "tags": []
          },
          "execution_count": 8
        },
        {
          "output_type": "display_data",
          "data": {
            "image/png": "[encoded data removed]",
            "text/plain": [
              "<Figure size 432x288 with 2 Axes>"
            ]
          },
          "metadata": {
            "tags": [],
            "needs_background": "light"
          }
        }
      ]
    },
    {
      "cell_type": "markdown",
      "metadata": {
        "id": "Nmd2kil7TLXF"
      },
      "source": [
        "Fontos felhívni a figyelmet a precision, recall és f1 esetén az \"avarage\" paraméterre. Mivel ezek a metrikák alapvetően két osztályt vesznek figyelembe, ezért több lehetőségünk van több osztálynál az értékek figyelembe vételére. Ennek talán legegyszerűbb módja a \"macro\", amikor minden osztálynál kiszámolt érték átlagát veszi. Ha \"micro\"-ra állítjuk, akkor összegzi az összes osztály esetén a TP, TN, FN, FP értékeket és ezekkel számol. \"weighted\" esetben pedig azt is figyelembe veszi, hogy melyik osztályban mennyi minta van, és amelyikbe sok, azt nagyobb súllyal veszi figyelembe. "
      ]
    },
    {
      "cell_type": "markdown",
      "metadata": {
        "id": "L8Y7Gq_WBXA2"
      },
      "source": [
        "# Adatok és aktivációk vizsgálata TensorBoard projectorban\n"
      ]
    },
    {
      "cell_type": "code",
      "metadata": {
        "id": "uxhunj5-OyNN",
        "outputId": "589557a6-1e1e-453c-87f4-4c70f580f6ca",
        "colab": {
          "base_uri": "https://localhost:8080/",
          "height": 54
        }
      },
      "source": [
        "from tensorflow.keras import backend as K\n",
        "from tensorflow.keras.models import Model\n",
        "\n",
        "# a modell bemenetének megadása\n",
        "inp = model.input              \n",
        "# a modell összes kimenetének a listázása                             \n",
        "outputs = [layer.output for layer in model.layers]\n",
        "print(outputs)"
      ],
      "execution_count": 9,
      "outputs": [
        {
          "output_type": "stream",
          "text": [
            "[<tf.Tensor 'conv2d/Relu_1:0' shape=(None, 24, 24, 6) dtype=float32>, <tf.Tensor 'max_pooling2d/MaxPool_1:0' shape=(None, 12, 12, 6) dtype=float32>, <tf.Tensor 'conv2d_1/Relu_1:0' shape=(None, 8, 8, 16) dtype=float32>, <tf.Tensor 'max_pooling2d_1/MaxPool_1:0' shape=(None, 4, 4, 16) dtype=float32>, <tf.Tensor 'dropout/cond_1/Identity:0' shape=(None, 4, 4, 16) dtype=float32>, <tf.Tensor 'flatten/Reshape_1:0' shape=(None, 256) dtype=float32>, <tf.Tensor 'dense/Relu_1:0' shape=(None, 128) dtype=float32>, <tf.Tensor 'dropout_1/cond_1/Identity:0' shape=(None, 128) dtype=float32>, <tf.Tensor 'dense_1/Softmax_1:0' shape=(None, 10) dtype=float32>]\n"
          ],
          "name": "stdout"
        }
      ]
    },
    {
      "cell_type": "markdown",
      "metadata": {
        "id": "o9m5_reZQQnz"
      },
      "source": [
        "Létrehozunk két almodellt, melyek kimenete az adott rétegek kimenete:"
      ]
    },
    {
      "cell_type": "code",
      "metadata": {
        "id": "WGLFa8esPMg0"
      },
      "source": [
        "submodel_1 = Model(inp, outputs[0])\n",
        "submodel_2 = Model(inp, outputs[5])"
      ],
      "execution_count": 10,
      "outputs": []
    },
    {
      "cell_type": "markdown",
      "metadata": {
        "id": "F7rkonUEQeOC"
      },
      "source": [
        "Ezt követően a teszt adatbázis 500 mintájával csinálunk egy-egy predikciót és külön tensor-okba mentünk el:"
      ]
    },
    {
      "cell_type": "code",
      "metadata": {
        "id": "zwObXeDIQlkU"
      },
      "source": [
        "X_test500 = x_test[:500]\n",
        "Y_test500 = y_test[:500]"
      ],
      "execution_count": 11,
      "outputs": []
    },
    {
      "cell_type": "code",
      "metadata": {
        "id": "fgMafl5uQltr"
      },
      "source": [
        "pred_1 = submodel_1.predict(X_test500)\n",
        "pred_2 = submodel_2.predict(X_test500)"
      ],
      "execution_count": 12,
      "outputs": []
    },
    {
      "cell_type": "markdown",
      "metadata": {
        "id": "_SeG4rjBRWQU"
      },
      "source": [
        "Ezt követően pedig a nyers adatokat és a réteg aktivációkat kiírjuk a TensorBoard Projektor számára. Ehhez a TensorBoardX csomagot fogjuk használni, amit telepíteni kell:"
      ]
    },
    {
      "cell_type": "code",
      "metadata": {
        "id": "VJP4YO1VQMgu",
        "outputId": "3ae81c98-4090-4f3d-b46b-26906dda9fa5",
        "colab": {
          "base_uri": "https://localhost:8080/",
          "height": 170
        }
      },
      "source": [
        "!pip install tensorboardX"
      ],
      "execution_count": 13,
      "outputs": [
        {
          "output_type": "stream",
          "text": [
            "Collecting tensorboardX\n",
            "\u001b[?25l  Downloading https://files.pythonhosted.org/packages/af/0c/4f41bcd45db376e6fe5c619c01100e9b7531c55791b7244815bac6eac32c/tensorboardX-2.1-py2.py3-none-any.whl (308kB)\n",
            "\r\u001b[K     |█                               | 10kB 22.0MB/s eta 0:00:01\r\u001b[K     |██▏                             | 20kB 25.2MB/s eta 0:00:01\r\u001b[K     |███▏                            | 30kB 17.5MB/s eta 0:00:01\r\u001b[K     |████▎                           | 40kB 15.1MB/s eta 0:00:01\r\u001b[K     |█████▎                          | 51kB 12.2MB/s eta 0:00:01\r\u001b[K     |██████▍                         | 61kB 12.3MB/s eta 0:00:01\r\u001b[K     |███████▍                        | 71kB 11.7MB/s eta 0:00:01\r\u001b[K     |████████▌                       | 81kB 10.7MB/s eta 0:00:01\r\u001b[K     |█████████▌                      | 92kB 10.5MB/s eta 0:00:01\r\u001b[K     |██████████▋                     | 102kB 11.2MB/s eta 0:00:01\r\u001b[K     |███████████▊                    | 112kB 11.2MB/s eta 0:00:01\r\u001b[K     |████████████▊                   | 122kB 11.2MB/s eta 0:00:01\r\u001b[K     |█████████████▉                  | 133kB 11.2MB/s eta 0:00:01\r\u001b[K     |██████████████▉                 | 143kB 11.2MB/s eta 0:00:01\r\u001b[K     |████████████████                | 153kB 11.2MB/s eta 0:00:01\r\u001b[K     |█████████████████               | 163kB 11.2MB/s eta 0:00:01\r\u001b[K     |██████████████████              | 174kB 11.2MB/s eta 0:00:01\r\u001b[K     |███████████████████             | 184kB 11.2MB/s eta 0:00:01\r\u001b[K     |████████████████████▏           | 194kB 11.2MB/s eta 0:00:01\r\u001b[K     |█████████████████████▎          | 204kB 11.2MB/s eta 0:00:01\r\u001b[K     |██████████████████████▎         | 215kB 11.2MB/s eta 0:00:01\r\u001b[K     |███████████████████████▍        | 225kB 11.2MB/s eta 0:00:01\r\u001b[K     |████████████████████████▍       | 235kB 11.2MB/s eta 0:00:01\r\u001b[K     |█████████████████████████▌      | 245kB 11.2MB/s eta 0:00:01\r\u001b[K     |██████████████████████████▌     | 256kB 11.2MB/s eta 0:00:01\r\u001b[K     |███████████████████████████▋    | 266kB 11.2MB/s eta 0:00:01\r\u001b[K     |████████████████████████████▋   | 276kB 11.2MB/s eta 0:00:01\r\u001b[K     |█████████████████████████████▊  | 286kB 11.2MB/s eta 0:00:01\r\u001b[K     |██████████████████████████████▊ | 296kB 11.2MB/s eta 0:00:01\r\u001b[K     |███████████████████████████████▉| 307kB 11.2MB/s eta 0:00:01\r\u001b[K     |████████████████████████████████| 317kB 11.2MB/s \n",
            "\u001b[?25hRequirement already satisfied: protobuf>=3.8.0 in /usr/local/lib/python3.6/dist-packages (from tensorboardX) (3.12.4)\n",
            "Requirement already satisfied: numpy in /usr/local/lib/python3.6/dist-packages (from tensorboardX) (1.18.5)\n",
            "Requirement already satisfied: six in /usr/local/lib/python3.6/dist-packages (from tensorboardX) (1.15.0)\n",
            "Requirement already satisfied: setuptools in /usr/local/lib/python3.6/dist-packages (from protobuf>=3.8.0->tensorboardX) (50.3.0)\n",
            "Installing collected packages: tensorboardX\n",
            "Successfully installed tensorboardX-2.1\n"
          ],
          "name": "stdout"
        }
      ]
    },
    {
      "cell_type": "code",
      "metadata": {
        "id": "J_xv3kimRsnL"
      },
      "source": [
        "logdir = 'logs/'\n",
        "from tensorboardX import SummaryWriter\n",
        "\n",
        "with SummaryWriter(logdir+'/projector/raw_data') as w:\n",
        "  w.add_embedding(X_test500.reshape(500,-1), metadata=np.argmax(Y_test500,1), label_img=X_test500.reshape(500,1,28,28), global_step=0)\n",
        "\n",
        "with SummaryWriter(logdir+'/projector/submodel_1') as w:\n",
        "  w.add_embedding(pred_1.reshape(500,-1), metadata=np.argmax(Y_test500,1), label_img=X_test500.reshape(500,1,28,28), global_step=0)\n",
        "\n",
        "with SummaryWriter(logdir+'/projector/submodel_2') as w:\n",
        "  w.add_embedding(pred_2.reshape(500,-1), metadata=np.argmax(Y_test500,1), label_img=X_test500.reshape(500,1,28,28), global_step=0)\n"
      ],
      "execution_count": 14,
      "outputs": []
    },
    {
      "cell_type": "markdown",
      "metadata": {
        "id": "1SWP0pvcSlBT"
      },
      "source": [
        "Végül pedig vizsgáljuk meg TensorBoard-ban a beágyazásokat. Ha esetleg a Projector menüpont nem jelenik meg, akkor az inactive menük közül válaszd ki:"
      ]
    },
    {
      "cell_type": "code",
      "metadata": {
        "id": "fzDS7Qs4SdR8"
      },
      "source": [
        "%load_ext tensorboard"
      ],
      "execution_count": 15,
      "outputs": []
    },
    {
      "cell_type": "code",
      "metadata": {
        "id": "nqkBZf00Sp4a"
      },
      "source": [
        "%tensorboard --logdir logs"
      ],
      "execution_count": null,
      "outputs": []
    },
    {
      "cell_type": "code",
      "metadata": {
        "id": "NJUtSQRNdueJ"
      },
      "source": [
        ""
      ],
      "execution_count": 16,
      "outputs": []
    }
  ]
}