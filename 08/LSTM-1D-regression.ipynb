{
  "nbformat": 4,
  "nbformat_minor": 0,
  "metadata": {
    "accelerator": "GPU",
    "colab": {
      "name": "LSTM-regression.ipynb",
      "provenance": [],
      "collapsed_sections": []
    },
    "kernelspec": {
      "display_name": "Python 3",
      "language": "python",
      "name": "python3"
    },
    "language_info": {
      "codemirror_mode": {
        "name": "ipython",
        "version": 3
      },
      "file_extension": ".py",
      "mimetype": "text/x-python",
      "name": "python",
      "nbconvert_exporter": "python",
      "pygments_lexer": "ipython3",
      "version": "3.6.6"
    }
  },
  "cells": [
    {
      "cell_type": "markdown",
      "metadata": {
        "id": "eRYHzV6gVQmF"
      },
      "source": [
        "# Copyright\n",
        "<pre>\n",
        "Jelen forráskód a Budapesti Műszaki és Gazdaságtudományi Egyetemen \n",
        "tartott \"Deep Learning a gyakorlatban Python és LUA alapon\" tantárgy segédanyagaként készült.\n",
        "\n",
        "A tantárgy honlapja: http://smartlab.tmit.bme.hu/oktatas-deep-learning\n",
        "Deep Learning kutatás: http://smartlab.tmit.bme.hu/deep-learning\n",
        "\n",
        "A forráskódot GPLv3 licensz védi. Újrafelhasználás esetén lehetőség szerint kérejük az alábbi szerzőt értesíteni.\n",
        "\n",
        "2020 (c) Gyires-Tóth Bálint (toth.b kukac tmit pont bme pont hu), Zainkó Csaba\n",
        "</pre>"
      ]
    },
    {
      "cell_type": "markdown",
      "metadata": {
        "id": "FHVI7C8AVQmG"
      },
      "source": [
        "Jelen notebook egy példakódot mutat be egy dimenziós konvolúció alapú szekvenciális adat modellezésre. A példakód elsődlegesen az 1D konvolúcióra koncentrál, az általános megfontolások (standardizálás, min-max skálázás, early stopping, regularizáció, stb.) itt nem szerepelnek, de éles feladatokban szükségszerűek. "
      ]
    },
    {
      "cell_type": "code",
      "metadata": {
        "id": "eWBNCVa0bf65"
      },
      "source": [
        "import numpy as np\n",
        "from tensorflow.keras.models import Sequential\n",
        "from tensorflow.keras.layers import Activation, Dense, Flatten, LSTM\n",
        "from tensorflow.keras.optimizers import SGD\n",
        "import matplotlib.pyplot as plt"
      ],
      "execution_count": 2,
      "outputs": []
    },
    {
      "cell_type": "markdown",
      "metadata": {
        "id": "WuIwg4jQVQmJ"
      },
      "source": [
        "Az LSTM réteg létrehozása."
      ]
    },
    {
      "cell_type": "code",
      "metadata": {
        "id": "exAdDB6obuET"
      },
      "source": [
        "def make_lstm(window_size, lstm_size, nb_input_series=1, nb_outputs=1):\n",
        "    model = Sequential()\n",
        "    model.add(LSTM(lstm_size, input_shape=(window_size, nb_input_series)))\n",
        "    model.add(Flatten())\n",
        "    model.add(Dense(nb_outputs, activation='linear'))\n",
        "    model.compile(loss='mse', optimizer='adam', metrics=['mae'])\n",
        "    return model"
      ],
      "execution_count": 5,
      "outputs": []
    },
    {
      "cell_type": "markdown",
      "metadata": {
        "id": "PQgji09UVQmM"
      },
      "source": [
        "Az idősor adatokból az egy dimenziós konvolúció számára megfelelő formátum létrehozása."
      ]
    },
    {
      "cell_type": "code",
      "metadata": {
        "id": "Xmuu8Fg0bw1G"
      },
      "source": [
        "def make_timeseries_instances(timeseries, window_size):\n",
        "    timeseries = np.asarray(timeseries)\n",
        "    assert 0 < window_size < timeseries.shape[0] , \"Out of range 0 < {} < {} \".format(window_size,timeseries.shape[0])\n",
        "    X = np.atleast_3d(np.array([timeseries[start:start + window_size] for start in range(0, timeseries.shape[0] - window_size)]))\n",
        "    Y = timeseries[window_size:]\n",
        "    return X, Y"
      ],
      "execution_count": 6,
      "outputs": []
    },
    {
      "cell_type": "markdown",
      "metadata": {
        "id": "fDO9_4tcVQmP"
      },
      "source": [
        "A hálózat létrehozását, adatok formázását és tanítását az alábbi függvény végzi, és visszatér a predikcióval és az eredeti értékekkel:"
      ]
    },
    {
      "cell_type": "code",
      "metadata": {
        "id": "W_LqZZascuy5"
      },
      "source": [
        "def evaluate_timeseries(timeseries, window_size, valid_split=0.15, test_split=0.15):\n",
        "    lstm_size = 4\n",
        "    timeseries = np.atleast_2d(timeseries)\n",
        "    if timeseries.shape[0] == 1:\n",
        "        timeseries = timeseries.T       # 1D vektor -> 2D matrix\n",
        "    nb_samples, nb_series = timeseries.shape\n",
        "    model = make_lstm(window_size, lstm_size, nb_series, nb_series)\n",
        "    model.summary()\n",
        "    X, Y = make_timeseries_instances(timeseries, window_size)\n",
        "    \n",
        "    valid_size = int(nb_samples*(1-test_split-valid_split))\n",
        "    test_size = int(nb_samples*(1-test_split))\n",
        "    X_train, Y_train = X[:valid_size], Y[:valid_size]\n",
        "    X_valid, Y_valid = X[valid_size:test_size], Y[valid_size:test_size]\n",
        "    X_test, Y_test   = X[test_size:], Y[test_size:]\n",
        "    \n",
        "    model.fit(X_train, Y_train, epochs=50, batch_size=16, validation_data=(X_valid, Y_valid), verbose=2)\n",
        "    \n",
        "    preds   = model.predict(X_test)\n",
        "\n",
        "    return Y_test, preds   \n"
      ],
      "execution_count": 11,
      "outputs": []
    },
    {
      "cell_type": "markdown",
      "metadata": {
        "id": "BI4BXNZaVQmR"
      },
      "source": [
        "Minta adatok létrehozása és a tanítás meghívása. "
      ]
    },
    {
      "cell_type": "code",
      "metadata": {
        "id": "Pj3C21cOc62a",
        "outputId": "5449d543-3008-48f5-edea-6d4579e155bb",
        "colab": {
          "base_uri": "https://localhost:8080/"
        }
      },
      "source": [
        "# adatok elkészítése\n",
        "lp \t= np.linspace(-10*np.pi,10*np.pi,1000)\n",
        "X \t= np.sin(lp)*3+np.cos(lp*2)+np.sin(np.pi/2+lp*4)*1.5+np.log(np.abs(lp))\n",
        "window_size = 20\n",
        "\n",
        "targets, preds = evaluate_timeseries(X, window_size)"
      ],
      "execution_count": 12,
      "outputs": [
        {
          "output_type": "stream",
          "text": [
            "Model: \"sequential\"\n",
            "_________________________________________________________________\n",
            "Layer (type)                 Output Shape              Param #   \n",
            "=================================================================\n",
            "lstm (LSTM)                  (None, 4)                 96        \n",
            "_________________________________________________________________\n",
            "flatten (Flatten)            (None, 4)                 0         \n",
            "_________________________________________________________________\n",
            "dense (Dense)                (None, 1)                 5         \n",
            "=================================================================\n",
            "Total params: 101\n",
            "Trainable params: 101\n",
            "Non-trainable params: 0\n",
            "_________________________________________________________________\n",
            "Epoch 1/50\n",
            "44/44 - 1s - loss: 11.5911 - mae: 2.8852 - val_loss: 13.8013 - val_mae: 3.1607\n",
            "Epoch 2/50\n",
            "44/44 - 0s - loss: 9.5714 - mae: 2.6266 - val_loss: 11.3708 - val_mae: 2.8734\n",
            "Epoch 3/50\n",
            "44/44 - 0s - loss: 7.7372 - mae: 2.3691 - val_loss: 9.0160 - val_mae: 2.5691\n",
            "Epoch 4/50\n",
            "44/44 - 0s - loss: 6.1506 - mae: 2.1108 - val_loss: 7.1297 - val_mae: 2.2950\n",
            "Epoch 5/50\n",
            "44/44 - 0s - loss: 4.8906 - mae: 1.8774 - val_loss: 5.6214 - val_mae: 2.0432\n",
            "Epoch 6/50\n",
            "44/44 - 0s - loss: 3.9169 - mae: 1.6719 - val_loss: 4.5203 - val_mae: 1.8311\n",
            "Epoch 7/50\n",
            "44/44 - 0s - loss: 3.2345 - mae: 1.5121 - val_loss: 3.7220 - val_mae: 1.6559\n",
            "Epoch 8/50\n",
            "44/44 - 0s - loss: 2.7504 - mae: 1.3830 - val_loss: 3.1321 - val_mae: 1.5090\n",
            "Epoch 9/50\n",
            "44/44 - 0s - loss: 2.3851 - mae: 1.2763 - val_loss: 2.6847 - val_mae: 1.3873\n",
            "Epoch 10/50\n",
            "44/44 - 0s - loss: 2.0982 - mae: 1.1865 - val_loss: 2.3233 - val_mae: 1.2788\n",
            "Epoch 11/50\n",
            "44/44 - 0s - loss: 1.8654 - mae: 1.1078 - val_loss: 2.0249 - val_mae: 1.1815\n",
            "Epoch 12/50\n",
            "44/44 - 0s - loss: 1.6727 - mae: 1.0394 - val_loss: 1.7756 - val_mae: 1.0935\n",
            "Epoch 13/50\n",
            "44/44 - 0s - loss: 1.5113 - mae: 0.9764 - val_loss: 1.5671 - val_mae: 1.0179\n",
            "Epoch 14/50\n",
            "44/44 - 0s - loss: 1.3708 - mae: 0.9207 - val_loss: 1.3934 - val_mae: 0.9511\n",
            "Epoch 15/50\n",
            "44/44 - 0s - loss: 1.2521 - mae: 0.8701 - val_loss: 1.2397 - val_mae: 0.8909\n",
            "Epoch 16/50\n",
            "44/44 - 0s - loss: 1.1464 - mae: 0.8239 - val_loss: 1.1074 - val_mae: 0.8378\n",
            "Epoch 17/50\n",
            "44/44 - 0s - loss: 1.0541 - mae: 0.7808 - val_loss: 0.9969 - val_mae: 0.7915\n",
            "Epoch 18/50\n",
            "44/44 - 0s - loss: 0.9726 - mae: 0.7432 - val_loss: 0.8991 - val_mae: 0.7486\n",
            "Epoch 19/50\n",
            "44/44 - 0s - loss: 0.9002 - mae: 0.7088 - val_loss: 0.8142 - val_mae: 0.7081\n",
            "Epoch 20/50\n",
            "44/44 - 0s - loss: 0.8351 - mae: 0.6768 - val_loss: 0.7401 - val_mae: 0.6716\n",
            "Epoch 21/50\n",
            "44/44 - 0s - loss: 0.7762 - mae: 0.6464 - val_loss: 0.6737 - val_mae: 0.6381\n",
            "Epoch 22/50\n",
            "44/44 - 0s - loss: 0.7234 - mae: 0.6182 - val_loss: 0.6147 - val_mae: 0.6069\n",
            "Epoch 23/50\n",
            "44/44 - 0s - loss: 0.6745 - mae: 0.5926 - val_loss: 0.5637 - val_mae: 0.5784\n",
            "Epoch 24/50\n",
            "44/44 - 0s - loss: 0.6311 - mae: 0.5678 - val_loss: 0.5161 - val_mae: 0.5510\n",
            "Epoch 25/50\n",
            "44/44 - 0s - loss: 0.5916 - mae: 0.5470 - val_loss: 0.4786 - val_mae: 0.5277\n",
            "Epoch 26/50\n",
            "44/44 - 0s - loss: 0.5531 - mae: 0.5254 - val_loss: 0.4389 - val_mae: 0.5046\n",
            "Epoch 27/50\n",
            "44/44 - 0s - loss: 0.5189 - mae: 0.5067 - val_loss: 0.4049 - val_mae: 0.4828\n",
            "Epoch 28/50\n",
            "44/44 - 0s - loss: 0.4870 - mae: 0.4889 - val_loss: 0.3765 - val_mae: 0.4649\n",
            "Epoch 29/50\n",
            "44/44 - 0s - loss: 0.4565 - mae: 0.4705 - val_loss: 0.3489 - val_mae: 0.4448\n",
            "Epoch 30/50\n",
            "44/44 - 0s - loss: 0.4283 - mae: 0.4542 - val_loss: 0.3247 - val_mae: 0.4277\n",
            "Epoch 31/50\n",
            "44/44 - 0s - loss: 0.4030 - mae: 0.4383 - val_loss: 0.3001 - val_mae: 0.4096\n",
            "Epoch 32/50\n",
            "44/44 - 0s - loss: 0.3782 - mae: 0.4232 - val_loss: 0.2806 - val_mae: 0.3946\n",
            "Epoch 33/50\n",
            "44/44 - 0s - loss: 0.3555 - mae: 0.4089 - val_loss: 0.2636 - val_mae: 0.3823\n",
            "Epoch 34/50\n",
            "44/44 - 0s - loss: 0.3349 - mae: 0.3973 - val_loss: 0.2454 - val_mae: 0.3684\n",
            "Epoch 35/50\n",
            "44/44 - 0s - loss: 0.3151 - mae: 0.3829 - val_loss: 0.2300 - val_mae: 0.3575\n",
            "Epoch 36/50\n",
            "44/44 - 0s - loss: 0.2960 - mae: 0.3703 - val_loss: 0.2158 - val_mae: 0.3466\n",
            "Epoch 37/50\n",
            "44/44 - 0s - loss: 0.2789 - mae: 0.3584 - val_loss: 0.2023 - val_mae: 0.3349\n",
            "Epoch 38/50\n",
            "44/44 - 0s - loss: 0.2630 - mae: 0.3469 - val_loss: 0.1906 - val_mae: 0.3264\n",
            "Epoch 39/50\n",
            "44/44 - 0s - loss: 0.2481 - mae: 0.3363 - val_loss: 0.1795 - val_mae: 0.3171\n",
            "Epoch 40/50\n",
            "44/44 - 0s - loss: 0.2343 - mae: 0.3268 - val_loss: 0.1706 - val_mae: 0.3094\n",
            "Epoch 41/50\n",
            "44/44 - 0s - loss: 0.2216 - mae: 0.3176 - val_loss: 0.1602 - val_mae: 0.2999\n",
            "Epoch 42/50\n",
            "44/44 - 0s - loss: 0.2096 - mae: 0.3082 - val_loss: 0.1512 - val_mae: 0.2907\n",
            "Epoch 43/50\n",
            "44/44 - 0s - loss: 0.1984 - mae: 0.2993 - val_loss: 0.1431 - val_mae: 0.2833\n",
            "Epoch 44/50\n",
            "44/44 - 0s - loss: 0.1884 - mae: 0.2909 - val_loss: 0.1362 - val_mae: 0.2769\n",
            "Epoch 45/50\n",
            "44/44 - 0s - loss: 0.1786 - mae: 0.2825 - val_loss: 0.1295 - val_mae: 0.2703\n",
            "Epoch 46/50\n",
            "44/44 - 0s - loss: 0.1697 - mae: 0.2749 - val_loss: 0.1230 - val_mae: 0.2643\n",
            "Epoch 47/50\n",
            "44/44 - 0s - loss: 0.1616 - mae: 0.2678 - val_loss: 0.1175 - val_mae: 0.2582\n",
            "Epoch 48/50\n",
            "44/44 - 0s - loss: 0.1543 - mae: 0.2618 - val_loss: 0.1122 - val_mae: 0.2516\n",
            "Epoch 49/50\n",
            "44/44 - 0s - loss: 0.1470 - mae: 0.2542 - val_loss: 0.1062 - val_mae: 0.2466\n",
            "Epoch 50/50\n",
            "44/44 - 0s - loss: 0.1400 - mae: 0.2475 - val_loss: 0.1011 - val_mae: 0.2407\n"
          ],
          "name": "stdout"
        }
      ]
    },
    {
      "cell_type": "markdown",
      "metadata": {
        "id": "UgMtpKsHVQmU"
      },
      "source": [
        "Végül megjelenítjük a predikciót és az eredeti értékeket. "
      ]
    },
    {
      "cell_type": "code",
      "metadata": {
        "id": "74jMVTix8qK6",
        "outputId": "c1492679-e003-4f5a-d262-a3e1f9c50a7b",
        "colab": {
          "base_uri": "https://localhost:8080/",
          "height": 500
        }
      },
      "source": [
        "plt.figure(figsize=(12,8))\n",
        "plt.plot(preds, color='r', label=\"Predictions\")\n",
        "plt.plot(targets, color='g', label=\"Targets\")\n",
        "plt.legend()"
      ],
      "execution_count": 13,
      "outputs": [
        {
          "output_type": "execute_result",
          "data": {
            "text/plain": [
              "<matplotlib.legend.Legend at 0x7f6852dc4a58>"
            ]
          },
          "metadata": {
            "tags": []
          },
          "execution_count": 13
        },
        {
          "output_type": "display_data",
          "data": {
            "image/png": "[encoded data removed]",
            "text/plain": [
              "<Figure size 864x576 with 1 Axes>"
            ]
          },
          "metadata": {
            "tags": [],
            "needs_background": "light"
          }
        }
      ]
    },
    {
      "cell_type": "code",
      "metadata": {
        "id": "KdSl7fPaWGzM"
      },
      "source": [
        ""
      ],
      "execution_count": null,
      "outputs": []
    }
  ]
}